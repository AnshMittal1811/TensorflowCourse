{
  "nbformat": 4,
  "nbformat_minor": 0,
  "metadata": {
    "accelerator": "GPU",
    "colab": {
      "name": "Exercise04_Shakespeare_Poetry_Generation.ipynb",
      "provenance": [],
      "toc_visible": true
    },
    "kernelspec": {
      "display_name": "Python 3",
      "name": "python3"
    }
  },
  "cells": [
    {
      "cell_type": "code",
      "metadata": {
        "id": "zX4Kg8DUTKWO"
      },
      "source": [
        "#@title Licensed under the Apache License, Version 2.0 (the \"License\");\n",
        "# you may not use this file except in compliance with the License.\n",
        "# You may obtain a copy of the License at\n",
        "#\n",
        "# https://www.apache.org/licenses/LICENSE-2.0\n",
        "#\n",
        "# Unless required by applicable law or agreed to in writing, software\n",
        "# distributed under the License is distributed on an \"AS IS\" BASIS,\n",
        "# WITHOUT WARRANTIES OR CONDITIONS OF ANY KIND, either express or implied.\n",
        "# See the License for the specific language governing permissions and\n",
        "# limitations under the License."
      ],
      "execution_count": 1,
      "outputs": []
    },
    {
      "cell_type": "code",
      "metadata": {
        "id": "BOwsuGQQY9OL"
      },
      "source": [
        "from tensorflow.keras.preprocessing.sequence import pad_sequences\n",
        "from tensorflow.keras.layers import Embedding, LSTM, Dense, Dropout, Bidirectional\n",
        "from tensorflow.keras.preprocessing.text import Tokenizer\n",
        "from tensorflow.keras.models import Sequential\n",
        "from tensorflow.keras.optimizers import Adam\n",
        "from tensorflow.keras import regularizers\n",
        "import tensorflow.keras.utils as ku \n",
        "import numpy as np "
      ],
      "execution_count": 2,
      "outputs": []
    },
    {
      "cell_type": "code",
      "metadata": {
        "id": "PRnDnCW-Z7qv",
        "outputId": "5b5615a3-2a10-4698-b95f-055903b47014",
        "colab": {
          "base_uri": "https://localhost:8080/",
          "height": 204
        }
      },
      "source": [
        "tokenizer = Tokenizer()\n",
        "!wget --no-check-certificate \\\n",
        "    https://storage.googleapis.com/laurencemoroney-blog.appspot.com/sonnets.txt \\\n",
        "    -O /tmp/sonnets.txt\n",
        "data = open('/tmp/sonnets.txt').read()\n",
        "\n",
        "corpus = data.lower().split(\"\\n\")\n",
        "\n",
        "\n",
        "tokenizer.fit_on_texts(corpus)\n",
        "total_words = len(tokenizer.word_index) + 1\n",
        "\n",
        "# create input sequences using list of tokens\n",
        "input_sequences = []\n",
        "for line in corpus:\n",
        "\ttoken_list = tokenizer.texts_to_sequences([line])[0]\n",
        "\tfor i in range(1, len(token_list)):\n",
        "\t\tn_gram_sequence = token_list[:i+1]\n",
        "\t\tinput_sequences.append(n_gram_sequence)\n",
        "\n",
        "\n",
        "# pad sequences \n",
        "max_sequence_len = max([len(x) for x in input_sequences])\n",
        "input_sequences = np.array(pad_sequences(input_sequences, maxlen=max_sequence_len, padding='pre'))\n",
        "\n",
        "# create predictors and label\n",
        "predictors, label = input_sequences[:,:-1],input_sequences[:,-1]\n",
        "\n",
        "label = ku.to_categorical(label, num_classes=total_words)"
      ],
      "execution_count": 3,
      "outputs": [
        {
          "output_type": "stream",
          "text": [
            "--2020-10-20 09:45:21--  https://storage.googleapis.com/laurencemoroney-blog.appspot.com/sonnets.txt\n",
            "Resolving storage.googleapis.com (storage.googleapis.com)... 108.177.126.128, 108.177.127.128, 74.125.143.128, ...\n",
            "Connecting to storage.googleapis.com (storage.googleapis.com)|108.177.126.128|:443... connected.\n",
            "HTTP request sent, awaiting response... 200 OK\n",
            "Length: 93578 (91K) [text/plain]\n",
            "Saving to: ‘/tmp/sonnets.txt’\n",
            "\n",
            "/tmp/sonnets.txt    100%[===================>]  91.38K  --.-KB/s    in 0.001s  \n",
            "\n",
            "2020-10-20 09:45:22 (93.6 MB/s) - ‘/tmp/sonnets.txt’ saved [93578/93578]\n",
            "\n"
          ],
          "name": "stdout"
        }
      ]
    },
    {
      "cell_type": "code",
      "metadata": {
        "id": "w9vH8Y59ajYL",
        "outputId": "dd305e01-0592-403b-db3f-c53183212c84",
        "colab": {
          "base_uri": "https://localhost:8080/",
          "height": 375
        }
      },
      "source": [
        "model = Sequential()\n",
        "model.add(Embedding(total_words, 100, input_length=max_sequence_len-1))\n",
        "model.add(Bidirectional(LSTM(150, return_sequences = True)))\n",
        "model.add(Dropout(0.2))\n",
        "model.add(LSTM(100))\n",
        "model.add(Dense(total_words/2, activation='relu', kernel_regularizer=regularizers.l2(0.01)))\n",
        "model.add(Dense(total_words, activation='softmax'))\n",
        "model.compile(loss='categorical_crossentropy', optimizer='adam', metrics=['accuracy'])\n",
        "print(model.summary())"
      ],
      "execution_count": 4,
      "outputs": [
        {
          "output_type": "stream",
          "text": [
            "Model: \"sequential\"\n",
            "_________________________________________________________________\n",
            "Layer (type)                 Output Shape              Param #   \n",
            "=================================================================\n",
            "embedding (Embedding)        (None, 10, 100)           321100    \n",
            "_________________________________________________________________\n",
            "bidirectional (Bidirectional (None, 10, 300)           301200    \n",
            "_________________________________________________________________\n",
            "dropout (Dropout)            (None, 10, 300)           0         \n",
            "_________________________________________________________________\n",
            "lstm_1 (LSTM)                (None, 100)               160400    \n",
            "_________________________________________________________________\n",
            "dense (Dense)                (None, 1605)              162105    \n",
            "_________________________________________________________________\n",
            "dense_1 (Dense)              (None, 3211)              5156866   \n",
            "=================================================================\n",
            "Total params: 6,101,671\n",
            "Trainable params: 6,101,671\n",
            "Non-trainable params: 0\n",
            "_________________________________________________________________\n",
            "None\n"
          ],
          "name": "stdout"
        }
      ]
    },
    {
      "cell_type": "code",
      "metadata": {
        "id": "AIg2f1HBxqof",
        "outputId": "a7c79a75-f625-4cf8-d772-47211945d235",
        "colab": {
          "base_uri": "https://localhost:8080/",
          "height": 1000
        }
      },
      "source": [
        " history = model.fit(predictors, label, epochs=100, verbose=1)"
      ],
      "execution_count": 5,
      "outputs": [
        {
          "output_type": "stream",
          "text": [
            "Epoch 1/100\n",
            "484/484 [==============================] - 5s 11ms/step - loss: 6.8982 - accuracy: 0.0212\n",
            "Epoch 2/100\n",
            "484/484 [==============================] - 5s 11ms/step - loss: 6.4981 - accuracy: 0.0230\n",
            "Epoch 3/100\n",
            "484/484 [==============================] - 5s 11ms/step - loss: 6.4084 - accuracy: 0.0250\n",
            "Epoch 4/100\n",
            "484/484 [==============================] - 5s 11ms/step - loss: 6.2839 - accuracy: 0.0310\n",
            "Epoch 5/100\n",
            "484/484 [==============================] - 5s 11ms/step - loss: 6.1920 - accuracy: 0.0351\n",
            "Epoch 6/100\n",
            "484/484 [==============================] - 5s 11ms/step - loss: 6.1112 - accuracy: 0.0368\n",
            "Epoch 7/100\n",
            "484/484 [==============================] - 5s 11ms/step - loss: 6.0301 - accuracy: 0.0402\n",
            "Epoch 8/100\n",
            "484/484 [==============================] - 5s 11ms/step - loss: 5.9458 - accuracy: 0.0439\n",
            "Epoch 9/100\n",
            "484/484 [==============================] - 5s 11ms/step - loss: 5.8449 - accuracy: 0.0482\n",
            "Epoch 10/100\n",
            "484/484 [==============================] - 5s 11ms/step - loss: 5.7380 - accuracy: 0.0548\n",
            "Epoch 11/100\n",
            "484/484 [==============================] - 5s 11ms/step - loss: 5.6327 - accuracy: 0.0612\n",
            "Epoch 12/100\n",
            "484/484 [==============================] - 5s 11ms/step - loss: 5.5232 - accuracy: 0.0676\n",
            "Epoch 13/100\n",
            "484/484 [==============================] - 5s 10ms/step - loss: 5.4196 - accuracy: 0.0730\n",
            "Epoch 14/100\n",
            "484/484 [==============================] - 5s 10ms/step - loss: 5.3260 - accuracy: 0.0802\n",
            "Epoch 15/100\n",
            "484/484 [==============================] - 5s 11ms/step - loss: 5.2231 - accuracy: 0.0854\n",
            "Epoch 16/100\n",
            "484/484 [==============================] - 5s 10ms/step - loss: 5.1217 - accuracy: 0.0973\n",
            "Epoch 17/100\n",
            "484/484 [==============================] - 5s 10ms/step - loss: 5.0245 - accuracy: 0.1030\n",
            "Epoch 18/100\n",
            "484/484 [==============================] - 5s 10ms/step - loss: 4.9225 - accuracy: 0.1125\n",
            "Epoch 19/100\n",
            "484/484 [==============================] - 5s 10ms/step - loss: 4.8196 - accuracy: 0.1191\n",
            "Epoch 20/100\n",
            "484/484 [==============================] - 5s 10ms/step - loss: 4.7266 - accuracy: 0.1321\n",
            "Epoch 21/100\n",
            "484/484 [==============================] - 5s 10ms/step - loss: 4.6218 - accuracy: 0.1415\n",
            "Epoch 22/100\n",
            "484/484 [==============================] - 5s 11ms/step - loss: 4.5215 - accuracy: 0.1482\n",
            "Epoch 23/100\n",
            "484/484 [==============================] - 5s 11ms/step - loss: 4.4143 - accuracy: 0.1599\n",
            "Epoch 24/100\n",
            "484/484 [==============================] - 5s 11ms/step - loss: 4.3153 - accuracy: 0.1724\n",
            "Epoch 25/100\n",
            "484/484 [==============================] - 6s 12ms/step - loss: 4.2161 - accuracy: 0.1823\n",
            "Epoch 26/100\n",
            "484/484 [==============================] - 5s 11ms/step - loss: 4.1174 - accuracy: 0.1950\n",
            "Epoch 27/100\n",
            "484/484 [==============================] - 5s 11ms/step - loss: 4.0099 - accuracy: 0.2114\n",
            "Epoch 28/100\n",
            "484/484 [==============================] - 5s 10ms/step - loss: 3.9041 - accuracy: 0.2259\n",
            "Epoch 29/100\n",
            "484/484 [==============================] - 5s 10ms/step - loss: 3.8055 - accuracy: 0.2419\n",
            "Epoch 30/100\n",
            "484/484 [==============================] - 5s 11ms/step - loss: 3.7079 - accuracy: 0.2612\n",
            "Epoch 31/100\n",
            "484/484 [==============================] - 5s 11ms/step - loss: 3.6149 - accuracy: 0.2786\n",
            "Epoch 32/100\n",
            "484/484 [==============================] - 5s 11ms/step - loss: 3.5112 - accuracy: 0.2995\n",
            "Epoch 33/100\n",
            "484/484 [==============================] - 5s 10ms/step - loss: 3.4226 - accuracy: 0.3175\n",
            "Epoch 34/100\n",
            "484/484 [==============================] - 5s 10ms/step - loss: 3.3383 - accuracy: 0.3377\n",
            "Epoch 35/100\n",
            "484/484 [==============================] - 5s 10ms/step - loss: 3.2495 - accuracy: 0.3565\n",
            "Epoch 36/100\n",
            "484/484 [==============================] - 5s 11ms/step - loss: 3.1597 - accuracy: 0.3793\n",
            "Epoch 37/100\n",
            "484/484 [==============================] - 5s 10ms/step - loss: 3.0857 - accuracy: 0.3921\n",
            "Epoch 38/100\n",
            "484/484 [==============================] - 5s 11ms/step - loss: 3.0047 - accuracy: 0.4096\n",
            "Epoch 39/100\n",
            "484/484 [==============================] - 5s 10ms/step - loss: 2.9256 - accuracy: 0.4333\n",
            "Epoch 40/100\n",
            "484/484 [==============================] - 5s 11ms/step - loss: 2.8617 - accuracy: 0.4487\n",
            "Epoch 41/100\n",
            "484/484 [==============================] - 5s 11ms/step - loss: 2.7940 - accuracy: 0.4630\n",
            "Epoch 42/100\n",
            "484/484 [==============================] - 5s 11ms/step - loss: 2.7247 - accuracy: 0.4783\n",
            "Epoch 43/100\n",
            "484/484 [==============================] - 5s 11ms/step - loss: 2.6630 - accuracy: 0.4940\n",
            "Epoch 44/100\n",
            "484/484 [==============================] - 5s 11ms/step - loss: 2.6051 - accuracy: 0.5067\n",
            "Epoch 45/100\n",
            "484/484 [==============================] - 5s 10ms/step - loss: 2.5369 - accuracy: 0.5224\n",
            "Epoch 46/100\n",
            "484/484 [==============================] - 5s 11ms/step - loss: 2.4808 - accuracy: 0.5360\n",
            "Epoch 47/100\n",
            "484/484 [==============================] - 5s 11ms/step - loss: 2.4249 - accuracy: 0.5458\n",
            "Epoch 48/100\n",
            "484/484 [==============================] - 5s 11ms/step - loss: 2.3835 - accuracy: 0.5521\n",
            "Epoch 49/100\n",
            "484/484 [==============================] - 5s 10ms/step - loss: 2.3244 - accuracy: 0.5701\n",
            "Epoch 50/100\n",
            "484/484 [==============================] - 5s 10ms/step - loss: 2.2783 - accuracy: 0.5781\n",
            "Epoch 51/100\n",
            "484/484 [==============================] - 5s 10ms/step - loss: 2.2419 - accuracy: 0.5913\n",
            "Epoch 52/100\n",
            "484/484 [==============================] - 5s 10ms/step - loss: 2.1820 - accuracy: 0.6012\n",
            "Epoch 53/100\n",
            "484/484 [==============================] - 5s 11ms/step - loss: 2.1264 - accuracy: 0.6131\n",
            "Epoch 54/100\n",
            "484/484 [==============================] - 5s 10ms/step - loss: 2.1113 - accuracy: 0.6178\n",
            "Epoch 55/100\n",
            "484/484 [==============================] - 5s 11ms/step - loss: 2.0661 - accuracy: 0.6279\n",
            "Epoch 56/100\n",
            "484/484 [==============================] - 5s 10ms/step - loss: 2.0311 - accuracy: 0.6314\n",
            "Epoch 57/100\n",
            "484/484 [==============================] - 5s 10ms/step - loss: 1.9870 - accuracy: 0.6408\n",
            "Epoch 58/100\n",
            "484/484 [==============================] - 5s 11ms/step - loss: 1.9509 - accuracy: 0.6499\n",
            "Epoch 59/100\n",
            "484/484 [==============================] - 5s 10ms/step - loss: 1.9123 - accuracy: 0.6599\n",
            "Epoch 60/100\n",
            "484/484 [==============================] - 5s 10ms/step - loss: 1.8685 - accuracy: 0.6660\n",
            "Epoch 61/100\n",
            "484/484 [==============================] - 5s 10ms/step - loss: 1.8442 - accuracy: 0.6732\n",
            "Epoch 62/100\n",
            "484/484 [==============================] - 5s 11ms/step - loss: 1.8268 - accuracy: 0.6770\n",
            "Epoch 63/100\n",
            "484/484 [==============================] - 5s 11ms/step - loss: 1.7903 - accuracy: 0.6837\n",
            "Epoch 64/100\n",
            "484/484 [==============================] - 5s 11ms/step - loss: 1.7555 - accuracy: 0.6925\n",
            "Epoch 65/100\n",
            "484/484 [==============================] - 5s 10ms/step - loss: 1.7399 - accuracy: 0.6950\n",
            "Epoch 66/100\n",
            "484/484 [==============================] - 5s 10ms/step - loss: 1.7095 - accuracy: 0.7000\n",
            "Epoch 67/100\n",
            "484/484 [==============================] - 5s 10ms/step - loss: 1.6741 - accuracy: 0.7050\n",
            "Epoch 68/100\n",
            "484/484 [==============================] - 5s 11ms/step - loss: 1.6560 - accuracy: 0.7080\n",
            "Epoch 69/100\n",
            "484/484 [==============================] - 5s 10ms/step - loss: 1.6245 - accuracy: 0.7155\n",
            "Epoch 70/100\n",
            "484/484 [==============================] - 5s 10ms/step - loss: 1.5954 - accuracy: 0.7253\n",
            "Epoch 71/100\n",
            "484/484 [==============================] - 5s 10ms/step - loss: 1.5985 - accuracy: 0.7210\n",
            "Epoch 72/100\n",
            "484/484 [==============================] - 5s 10ms/step - loss: 1.5673 - accuracy: 0.7293\n",
            "Epoch 73/100\n",
            "484/484 [==============================] - 5s 10ms/step - loss: 1.5462 - accuracy: 0.7333\n",
            "Epoch 74/100\n",
            "484/484 [==============================] - 5s 11ms/step - loss: 1.5123 - accuracy: 0.7388\n",
            "Epoch 75/100\n",
            "484/484 [==============================] - 5s 11ms/step - loss: 1.4823 - accuracy: 0.7460\n",
            "Epoch 76/100\n",
            "484/484 [==============================] - 5s 11ms/step - loss: 1.4845 - accuracy: 0.7412\n",
            "Epoch 77/100\n",
            "484/484 [==============================] - 5s 11ms/step - loss: 1.4547 - accuracy: 0.7491\n",
            "Epoch 78/100\n",
            "484/484 [==============================] - 5s 11ms/step - loss: 1.4452 - accuracy: 0.7500\n",
            "Epoch 79/100\n",
            "484/484 [==============================] - 5s 11ms/step - loss: 1.4477 - accuracy: 0.7464\n",
            "Epoch 80/100\n",
            "484/484 [==============================] - 5s 11ms/step - loss: 1.4001 - accuracy: 0.7582\n",
            "Epoch 81/100\n",
            "484/484 [==============================] - 5s 11ms/step - loss: 1.3913 - accuracy: 0.7619\n",
            "Epoch 82/100\n",
            "484/484 [==============================] - 5s 11ms/step - loss: 1.3718 - accuracy: 0.7645\n",
            "Epoch 83/100\n",
            "484/484 [==============================] - 6s 11ms/step - loss: 1.3381 - accuracy: 0.7716\n",
            "Epoch 84/100\n",
            "484/484 [==============================] - 5s 11ms/step - loss: 1.3710 - accuracy: 0.7593\n",
            "Epoch 85/100\n",
            "484/484 [==============================] - 5s 11ms/step - loss: 1.3423 - accuracy: 0.7656\n",
            "Epoch 86/100\n",
            "484/484 [==============================] - 5s 11ms/step - loss: 1.3102 - accuracy: 0.7735\n",
            "Epoch 87/100\n",
            "484/484 [==============================] - 5s 11ms/step - loss: 1.2897 - accuracy: 0.7771\n",
            "Epoch 88/100\n",
            "484/484 [==============================] - 5s 11ms/step - loss: 1.2929 - accuracy: 0.7779\n",
            "Epoch 89/100\n",
            "484/484 [==============================] - 5s 11ms/step - loss: 1.2806 - accuracy: 0.7777\n",
            "Epoch 90/100\n",
            "484/484 [==============================] - 5s 11ms/step - loss: 1.2652 - accuracy: 0.7822\n",
            "Epoch 91/100\n",
            "484/484 [==============================] - 5s 11ms/step - loss: 1.2447 - accuracy: 0.7844\n",
            "Epoch 92/100\n",
            "484/484 [==============================] - 5s 11ms/step - loss: 1.2542 - accuracy: 0.7791\n",
            "Epoch 93/100\n",
            "484/484 [==============================] - 5s 11ms/step - loss: 1.2288 - accuracy: 0.7872\n",
            "Epoch 94/100\n",
            "484/484 [==============================] - 5s 11ms/step - loss: 1.2161 - accuracy: 0.7884\n",
            "Epoch 95/100\n",
            "484/484 [==============================] - 5s 11ms/step - loss: 1.1999 - accuracy: 0.7906\n",
            "Epoch 96/100\n",
            "484/484 [==============================] - 5s 11ms/step - loss: 1.2009 - accuracy: 0.7927\n",
            "Epoch 97/100\n",
            "484/484 [==============================] - 5s 11ms/step - loss: 1.1845 - accuracy: 0.7955\n",
            "Epoch 98/100\n",
            "484/484 [==============================] - 5s 11ms/step - loss: 1.1735 - accuracy: 0.7982\n",
            "Epoch 99/100\n",
            "484/484 [==============================] - 5s 11ms/step - loss: 1.1556 - accuracy: 0.7989\n",
            "Epoch 100/100\n",
            "484/484 [==============================] - 5s 11ms/step - loss: 1.1621 - accuracy: 0.7986\n"
          ],
          "name": "stdout"
        }
      ]
    },
    {
      "cell_type": "code",
      "metadata": {
        "id": "1fXTEO3GJ282",
        "outputId": "117cb6b1-f8c1-4cf4-a3ca-2f46df77499c",
        "colab": {
          "base_uri": "https://localhost:8080/",
          "height": 545
        }
      },
      "source": [
        "import matplotlib.pyplot as plt\n",
        "acc = history.history['accuracy']\n",
        "loss = history.history['loss']\n",
        "\n",
        "epochs = range(len(acc))\n",
        "\n",
        "plt.plot(epochs, acc, 'b', label='Training accuracy')\n",
        "plt.title('Training accuracy')\n",
        "\n",
        "plt.figure()\n",
        "\n",
        "plt.plot(epochs, loss, 'b', label='Training Loss')\n",
        "plt.title('Training loss')\n",
        "plt.legend()\n",
        "\n",
        "plt.show()"
      ],
      "execution_count": 6,
      "outputs": [
        {
          "output_type": "display_data",
          "data": {
            "image/png": "[encoded data removed]",
            "text/plain": [
              "<Figure size 432x288 with 1 Axes>"
            ]
          },
          "metadata": {
            "tags": [],
            "needs_background": "light"
          }
        },
        {
          "output_type": "display_data",
          "data": {
            "image/png": "[encoded data removed]",
            "text/plain": [
              "<Figure size 432x288 with 1 Axes>"
            ]
          },
          "metadata": {
            "tags": [],
            "needs_background": "light"
          }
        }
      ]
    },
    {
      "cell_type": "code",
      "metadata": {
        "id": "6Vc6PHgxa6Hm",
        "outputId": "ebd4ee0f-d57d-4a13-9b93-ae05ce3a4ed4",
        "colab": {
          "base_uri": "https://localhost:8080/",
          "height": 105
        }
      },
      "source": [
        "seed_text = \"Help me Obi Wan Kenobi, you're my only hope\"\n",
        "next_words = 100\n",
        "  \n",
        "for _ in range(next_words):\n",
        "\ttoken_list = tokenizer.texts_to_sequences([seed_text])[0]\n",
        "\ttoken_list = pad_sequences([token_list], maxlen=max_sequence_len-1, padding='pre')\n",
        "\tpredicted = model.predict_classes(token_list, verbose=0)\n",
        "\toutput_word = \"\"\n",
        "\tfor word, index in tokenizer.word_index.items():\n",
        "\t\tif index == predicted:\n",
        "\t\t\toutput_word = word\n",
        "\t\t\tbreak\n",
        "\tseed_text += \" \" + output_word\n",
        "print(seed_text)"
      ],
      "execution_count": 7,
      "outputs": [
        {
          "output_type": "stream",
          "text": [
            "WARNING:tensorflow:From <ipython-input-7-622d307fa19a>:7: Sequential.predict_classes (from tensorflow.python.keras.engine.sequential) is deprecated and will be removed after 2021-01-01.\n",
            "Instructions for updating:\n",
            "Please use instead:* `np.argmax(model.predict(x), axis=-1)`,   if your model does multi-class classification   (e.g. if it uses a `softmax` last-layer activation).* `(model.predict(x) > 0.5).astype(\"int32\")`,   if your model does binary classification   (e.g. if it uses a `sigmoid` last-layer activation).\n",
            "Help me Obi Wan Kenobi, you're my only hope is this blessed near ye forth deem'd mother dearly lie with die new kind still still own true bright lies bright ' keep 'tis it mother mother substantial beard fall with weeds wrong days pluck be subjects forgot did stand due new new forsworn me her rotten refined brow end end well faith all show him men days dyed expire rare lies but confined view be lie on die such wrong ' keep so near tend rare grow fall on loss was good loss was him assured thee who bold grew to change done art it forsworn me as myself\n"
          ],
          "name": "stdout"
        }
      ]
    },
    {
      "cell_type": "markdown",
      "metadata": {
        "id": "4TAngvCGZhDO"
      },
      "source": [
        "-------"
      ]
    }
  ]
}