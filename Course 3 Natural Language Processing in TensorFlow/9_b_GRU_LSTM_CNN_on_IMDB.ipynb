{
  "nbformat": 4,
  "nbformat_minor": 0,
  "metadata": {
    "accelerator": "GPU",
    "colab": {
      "name": "9_b_GRU_LSTM_CNN_on_IMDB.ipynb",
      "provenance": [],
      "collapsed_sections": [],
      "toc_visible": true
    },
    "kernelspec": {
      "display_name": "Python 3",
      "name": "python3"
    },
    "widgets": {
      "application/vnd.jupyter.widget-state+json": {
        "2c5bfc8b9d5c41b586bef6c2aa8b7c9d": {
          "model_module": "@jupyter-widgets/controls",
          "model_name": "HBoxModel",
          "state": {
            "_view_name": "HBoxView",
            "_dom_classes": [],
            "_model_name": "HBoxModel",
            "_view_module": "@jupyter-widgets/controls",
            "_model_module_version": "1.5.0",
            "_view_count": null,
            "_view_module_version": "1.5.0",
            "box_style": "",
            "layout": "IPY_MODEL_a8b4776d57ef4924b2f02ad60bd7c7ef",
            "_model_module": "@jupyter-widgets/controls",
            "children": [
              "IPY_MODEL_d7b15cb7812046ad8516121ff123e7ed",
              "IPY_MODEL_3223758ad5214574aa045c9b7195c9db"
            ]
          }
        },
        "a8b4776d57ef4924b2f02ad60bd7c7ef": {
          "model_module": "@jupyter-widgets/base",
          "model_name": "LayoutModel",
          "state": {
            "_view_name": "LayoutView",
            "grid_template_rows": null,
            "right": null,
            "justify_content": null,
            "_view_module": "@jupyter-widgets/base",
            "overflow": null,
            "_model_module_version": "1.2.0",
            "_view_count": null,
            "flex_flow": null,
            "width": null,
            "min_width": null,
            "border": null,
            "align_items": null,
            "bottom": null,
            "_model_module": "@jupyter-widgets/base",
            "top": null,
            "grid_column": null,
            "overflow_y": null,
            "overflow_x": null,
            "grid_auto_flow": null,
            "grid_area": null,
            "grid_template_columns": null,
            "flex": null,
            "_model_name": "LayoutModel",
            "justify_items": null,
            "grid_row": null,
            "max_height": null,
            "align_content": null,
            "visibility": null,
            "align_self": null,
            "height": null,
            "min_height": null,
            "padding": null,
            "grid_auto_rows": null,
            "grid_gap": null,
            "max_width": null,
            "order": null,
            "_view_module_version": "1.2.0",
            "grid_template_areas": null,
            "object_position": null,
            "object_fit": null,
            "grid_auto_columns": null,
            "margin": null,
            "display": null,
            "left": null
          }
        },
        "d7b15cb7812046ad8516121ff123e7ed": {
          "model_module": "@jupyter-widgets/controls",
          "model_name": "FloatProgressModel",
          "state": {
            "_view_name": "ProgressView",
            "style": "IPY_MODEL_898407813c0c43adbb7da2707c3fc44d",
            "_dom_classes": [],
            "description": "Dl Completed...: 100%",
            "_model_name": "FloatProgressModel",
            "bar_style": "success",
            "max": 1,
            "_view_module": "@jupyter-widgets/controls",
            "_model_module_version": "1.5.0",
            "value": 1,
            "_view_count": null,
            "_view_module_version": "1.5.0",
            "orientation": "horizontal",
            "min": 0,
            "description_tooltip": null,
            "_model_module": "@jupyter-widgets/controls",
            "layout": "IPY_MODEL_037d7eef40754a3e89b7a3dbd3ce5250"
          }
        },
        "3223758ad5214574aa045c9b7195c9db": {
          "model_module": "@jupyter-widgets/controls",
          "model_name": "HTMLModel",
          "state": {
            "_view_name": "HTMLView",
            "style": "IPY_MODEL_92f6ec2ffbe14480912f2f61638d43a9",
            "_dom_classes": [],
            "description": "",
            "_model_name": "HTMLModel",
            "placeholder": "​",
            "_view_module": "@jupyter-widgets/controls",
            "_model_module_version": "1.5.0",
            "value": " 1/1 [00:01&lt;00:00,  1.62s/ url]",
            "_view_count": null,
            "_view_module_version": "1.5.0",
            "description_tooltip": null,
            "_model_module": "@jupyter-widgets/controls",
            "layout": "IPY_MODEL_28e61e47602040e8922fd5dbc3a56d89"
          }
        },
        "898407813c0c43adbb7da2707c3fc44d": {
          "model_module": "@jupyter-widgets/controls",
          "model_name": "ProgressStyleModel",
          "state": {
            "_view_name": "StyleView",
            "_model_name": "ProgressStyleModel",
            "description_width": "initial",
            "_view_module": "@jupyter-widgets/base",
            "_model_module_version": "1.5.0",
            "_view_count": null,
            "_view_module_version": "1.2.0",
            "bar_color": null,
            "_model_module": "@jupyter-widgets/controls"
          }
        },
        "037d7eef40754a3e89b7a3dbd3ce5250": {
          "model_module": "@jupyter-widgets/base",
          "model_name": "LayoutModel",
          "state": {
            "_view_name": "LayoutView",
            "grid_template_rows": null,
            "right": null,
            "justify_content": null,
            "_view_module": "@jupyter-widgets/base",
            "overflow": null,
            "_model_module_version": "1.2.0",
            "_view_count": null,
            "flex_flow": null,
            "width": null,
            "min_width": null,
            "border": null,
            "align_items": null,
            "bottom": null,
            "_model_module": "@jupyter-widgets/base",
            "top": null,
            "grid_column": null,
            "overflow_y": null,
            "overflow_x": null,
            "grid_auto_flow": null,
            "grid_area": null,
            "grid_template_columns": null,
            "flex": null,
            "_model_name": "LayoutModel",
            "justify_items": null,
            "grid_row": null,
            "max_height": null,
            "align_content": null,
            "visibility": null,
            "align_self": null,
            "height": null,
            "min_height": null,
            "padding": null,
            "grid_auto_rows": null,
            "grid_gap": null,
            "max_width": null,
            "order": null,
            "_view_module_version": "1.2.0",
            "grid_template_areas": null,
            "object_position": null,
            "object_fit": null,
            "grid_auto_columns": null,
            "margin": null,
            "display": null,
            "left": null
          }
        },
        "92f6ec2ffbe14480912f2f61638d43a9": {
          "model_module": "@jupyter-widgets/controls",
          "model_name": "DescriptionStyleModel",
          "state": {
            "_view_name": "StyleView",
            "_model_name": "DescriptionStyleModel",
            "description_width": "",
            "_view_module": "@jupyter-widgets/base",
            "_model_module_version": "1.5.0",
            "_view_count": null,
            "_view_module_version": "1.2.0",
            "_model_module": "@jupyter-widgets/controls"
          }
        },
        "28e61e47602040e8922fd5dbc3a56d89": {
          "model_module": "@jupyter-widgets/base",
          "model_name": "LayoutModel",
          "state": {
            "_view_name": "LayoutView",
            "grid_template_rows": null,
            "right": null,
            "justify_content": null,
            "_view_module": "@jupyter-widgets/base",
            "overflow": null,
            "_model_module_version": "1.2.0",
            "_view_count": null,
            "flex_flow": null,
            "width": null,
            "min_width": null,
            "border": null,
            "align_items": null,
            "bottom": null,
            "_model_module": "@jupyter-widgets/base",
            "top": null,
            "grid_column": null,
            "overflow_y": null,
            "overflow_x": null,
            "grid_auto_flow": null,
            "grid_area": null,
            "grid_template_columns": null,
            "flex": null,
            "_model_name": "LayoutModel",
            "justify_items": null,
            "grid_row": null,
            "max_height": null,
            "align_content": null,
            "visibility": null,
            "align_self": null,
            "height": null,
            "min_height": null,
            "padding": null,
            "grid_auto_rows": null,
            "grid_gap": null,
            "max_width": null,
            "order": null,
            "_view_module_version": "1.2.0",
            "grid_template_areas": null,
            "object_position": null,
            "object_fit": null,
            "grid_auto_columns": null,
            "margin": null,
            "display": null,
            "left": null
          }
        },
        "e155420a5a25448bbc3d1264a1a35cfe": {
          "model_module": "@jupyter-widgets/controls",
          "model_name": "HBoxModel",
          "state": {
            "_view_name": "HBoxView",
            "_dom_classes": [],
            "_model_name": "HBoxModel",
            "_view_module": "@jupyter-widgets/controls",
            "_model_module_version": "1.5.0",
            "_view_count": null,
            "_view_module_version": "1.5.0",
            "box_style": "",
            "layout": "IPY_MODEL_d5394a7ab0744d4b83e9193dd83dcc85",
            "_model_module": "@jupyter-widgets/controls",
            "children": [
              "IPY_MODEL_281444737b044ab7950679120cf42e73",
              "IPY_MODEL_f396f687e6444bcb9a04716d80d6ce63"
            ]
          }
        },
        "d5394a7ab0744d4b83e9193dd83dcc85": {
          "model_module": "@jupyter-widgets/base",
          "model_name": "LayoutModel",
          "state": {
            "_view_name": "LayoutView",
            "grid_template_rows": null,
            "right": null,
            "justify_content": null,
            "_view_module": "@jupyter-widgets/base",
            "overflow": null,
            "_model_module_version": "1.2.0",
            "_view_count": null,
            "flex_flow": null,
            "width": null,
            "min_width": null,
            "border": null,
            "align_items": null,
            "bottom": null,
            "_model_module": "@jupyter-widgets/base",
            "top": null,
            "grid_column": null,
            "overflow_y": null,
            "overflow_x": null,
            "grid_auto_flow": null,
            "grid_area": null,
            "grid_template_columns": null,
            "flex": null,
            "_model_name": "LayoutModel",
            "justify_items": null,
            "grid_row": null,
            "max_height": null,
            "align_content": null,
            "visibility": null,
            "align_self": null,
            "height": null,
            "min_height": null,
            "padding": null,
            "grid_auto_rows": null,
            "grid_gap": null,
            "max_width": null,
            "order": null,
            "_view_module_version": "1.2.0",
            "grid_template_areas": null,
            "object_position": null,
            "object_fit": null,
            "grid_auto_columns": null,
            "margin": null,
            "display": null,
            "left": null
          }
        },
        "281444737b044ab7950679120cf42e73": {
          "model_module": "@jupyter-widgets/controls",
          "model_name": "FloatProgressModel",
          "state": {
            "_view_name": "ProgressView",
            "style": "IPY_MODEL_09615c24030943879e5ce6c01105f257",
            "_dom_classes": [],
            "description": "Dl Size...: 100%",
            "_model_name": "FloatProgressModel",
            "bar_style": "success",
            "max": 1,
            "_view_module": "@jupyter-widgets/controls",
            "_model_module_version": "1.5.0",
            "value": 1,
            "_view_count": null,
            "_view_module_version": "1.5.0",
            "orientation": "horizontal",
            "min": 0,
            "description_tooltip": null,
            "_model_module": "@jupyter-widgets/controls",
            "layout": "IPY_MODEL_2ee60834a25b48f8946a050da6916f5b"
          }
        },
        "f396f687e6444bcb9a04716d80d6ce63": {
          "model_module": "@jupyter-widgets/controls",
          "model_name": "HTMLModel",
          "state": {
            "_view_name": "HTMLView",
            "style": "IPY_MODEL_34ba54e50452472984c5519514538571",
            "_dom_classes": [],
            "description": "",
            "_model_name": "HTMLModel",
            "placeholder": "​",
            "_view_module": "@jupyter-widgets/controls",
            "_model_module_version": "1.5.0",
            "value": " 80/80 [00:01&lt;00:00, 50.22 MiB/s]",
            "_view_count": null,
            "_view_module_version": "1.5.0",
            "description_tooltip": null,
            "_model_module": "@jupyter-widgets/controls",
            "layout": "IPY_MODEL_48f5791efbd041448456f40a0e3b2040"
          }
        },
        "09615c24030943879e5ce6c01105f257": {
          "model_module": "@jupyter-widgets/controls",
          "model_name": "ProgressStyleModel",
          "state": {
            "_view_name": "StyleView",
            "_model_name": "ProgressStyleModel",
            "description_width": "initial",
            "_view_module": "@jupyter-widgets/base",
            "_model_module_version": "1.5.0",
            "_view_count": null,
            "_view_module_version": "1.2.0",
            "bar_color": null,
            "_model_module": "@jupyter-widgets/controls"
          }
        },
        "2ee60834a25b48f8946a050da6916f5b": {
          "model_module": "@jupyter-widgets/base",
          "model_name": "LayoutModel",
          "state": {
            "_view_name": "LayoutView",
            "grid_template_rows": null,
            "right": null,
            "justify_content": null,
            "_view_module": "@jupyter-widgets/base",
            "overflow": null,
            "_model_module_version": "1.2.0",
            "_view_count": null,
            "flex_flow": null,
            "width": null,
            "min_width": null,
            "border": null,
            "align_items": null,
            "bottom": null,
            "_model_module": "@jupyter-widgets/base",
            "top": null,
            "grid_column": null,
            "overflow_y": null,
            "overflow_x": null,
            "grid_auto_flow": null,
            "grid_area": null,
            "grid_template_columns": null,
            "flex": null,
            "_model_name": "LayoutModel",
            "justify_items": null,
            "grid_row": null,
            "max_height": null,
            "align_content": null,
            "visibility": null,
            "align_self": null,
            "height": null,
            "min_height": null,
            "padding": null,
            "grid_auto_rows": null,
            "grid_gap": null,
            "max_width": null,
            "order": null,
            "_view_module_version": "1.2.0",
            "grid_template_areas": null,
            "object_position": null,
            "object_fit": null,
            "grid_auto_columns": null,
            "margin": null,
            "display": null,
            "left": null
          }
        },
        "34ba54e50452472984c5519514538571": {
          "model_module": "@jupyter-widgets/controls",
          "model_name": "DescriptionStyleModel",
          "state": {
            "_view_name": "StyleView",
            "_model_name": "DescriptionStyleModel",
            "description_width": "",
            "_view_module": "@jupyter-widgets/base",
            "_model_module_version": "1.5.0",
            "_view_count": null,
            "_view_module_version": "1.2.0",
            "_model_module": "@jupyter-widgets/controls"
          }
        },
        "48f5791efbd041448456f40a0e3b2040": {
          "model_module": "@jupyter-widgets/base",
          "model_name": "LayoutModel",
          "state": {
            "_view_name": "LayoutView",
            "grid_template_rows": null,
            "right": null,
            "justify_content": null,
            "_view_module": "@jupyter-widgets/base",
            "overflow": null,
            "_model_module_version": "1.2.0",
            "_view_count": null,
            "flex_flow": null,
            "width": null,
            "min_width": null,
            "border": null,
            "align_items": null,
            "bottom": null,
            "_model_module": "@jupyter-widgets/base",
            "top": null,
            "grid_column": null,
            "overflow_y": null,
            "overflow_x": null,
            "grid_auto_flow": null,
            "grid_area": null,
            "grid_template_columns": null,
            "flex": null,
            "_model_name": "LayoutModel",
            "justify_items": null,
            "grid_row": null,
            "max_height": null,
            "align_content": null,
            "visibility": null,
            "align_self": null,
            "height": null,
            "min_height": null,
            "padding": null,
            "grid_auto_rows": null,
            "grid_gap": null,
            "max_width": null,
            "order": null,
            "_view_module_version": "1.2.0",
            "grid_template_areas": null,
            "object_position": null,
            "object_fit": null,
            "grid_auto_columns": null,
            "margin": null,
            "display": null,
            "left": null
          }
        },
        "5052e25bbb924c109a06d5123e4784a5": {
          "model_module": "@jupyter-widgets/controls",
          "model_name": "HBoxModel",
          "state": {
            "_view_name": "HBoxView",
            "_dom_classes": [],
            "_model_name": "HBoxModel",
            "_view_module": "@jupyter-widgets/controls",
            "_model_module_version": "1.5.0",
            "_view_count": null,
            "_view_module_version": "1.5.0",
            "box_style": "",
            "layout": "IPY_MODEL_460336fcdf5f4b8e9d63d865c2b72b57",
            "_model_module": "@jupyter-widgets/controls",
            "children": [
              "IPY_MODEL_e10291466c6343cc810a8a7bab8a4963",
              "IPY_MODEL_9876e08fda3649daab01855ab0387552"
            ]
          }
        },
        "460336fcdf5f4b8e9d63d865c2b72b57": {
          "model_module": "@jupyter-widgets/base",
          "model_name": "LayoutModel",
          "state": {
            "_view_name": "LayoutView",
            "grid_template_rows": null,
            "right": null,
            "justify_content": null,
            "_view_module": "@jupyter-widgets/base",
            "overflow": null,
            "_model_module_version": "1.2.0",
            "_view_count": null,
            "flex_flow": null,
            "width": null,
            "min_width": null,
            "border": null,
            "align_items": null,
            "bottom": null,
            "_model_module": "@jupyter-widgets/base",
            "top": null,
            "grid_column": null,
            "overflow_y": null,
            "overflow_x": null,
            "grid_auto_flow": null,
            "grid_area": null,
            "grid_template_columns": null,
            "flex": null,
            "_model_name": "LayoutModel",
            "justify_items": null,
            "grid_row": null,
            "max_height": null,
            "align_content": null,
            "visibility": null,
            "align_self": null,
            "height": null,
            "min_height": null,
            "padding": null,
            "grid_auto_rows": null,
            "grid_gap": null,
            "max_width": null,
            "order": null,
            "_view_module_version": "1.2.0",
            "grid_template_areas": null,
            "object_position": null,
            "object_fit": null,
            "grid_auto_columns": null,
            "margin": null,
            "display": null,
            "left": null
          }
        },
        "e10291466c6343cc810a8a7bab8a4963": {
          "model_module": "@jupyter-widgets/controls",
          "model_name": "FloatProgressModel",
          "state": {
            "_view_name": "ProgressView",
            "style": "IPY_MODEL_ea7ce4b6b79a49c39e5f7b7e77d171c5",
            "_dom_classes": [],
            "description": "",
            "_model_name": "FloatProgressModel",
            "bar_style": "info",
            "max": 1,
            "_view_module": "@jupyter-widgets/controls",
            "_model_module_version": "1.5.0",
            "value": 1,
            "_view_count": null,
            "_view_module_version": "1.5.0",
            "orientation": "horizontal",
            "min": 0,
            "description_tooltip": null,
            "_model_module": "@jupyter-widgets/controls",
            "layout": "IPY_MODEL_4bf5b43b4cac4571981fe5b97caebccf"
          }
        },
        "9876e08fda3649daab01855ab0387552": {
          "model_module": "@jupyter-widgets/controls",
          "model_name": "HTMLModel",
          "state": {
            "_view_name": "HTMLView",
            "style": "IPY_MODEL_041af1948d9e436393e69f89281ee0cf",
            "_dom_classes": [],
            "description": "",
            "_model_name": "HTMLModel",
            "placeholder": "​",
            "_view_module": "@jupyter-widgets/controls",
            "_model_module_version": "1.5.0",
            "value": " 25000/0 [00:12&lt;00:00, 3535.07 examples/s]",
            "_view_count": null,
            "_view_module_version": "1.5.0",
            "description_tooltip": null,
            "_model_module": "@jupyter-widgets/controls",
            "layout": "IPY_MODEL_79c0195e03364fc0bb7a1ef1adff04e9"
          }
        },
        "ea7ce4b6b79a49c39e5f7b7e77d171c5": {
          "model_module": "@jupyter-widgets/controls",
          "model_name": "ProgressStyleModel",
          "state": {
            "_view_name": "StyleView",
            "_model_name": "ProgressStyleModel",
            "description_width": "initial",
            "_view_module": "@jupyter-widgets/base",
            "_model_module_version": "1.5.0",
            "_view_count": null,
            "_view_module_version": "1.2.0",
            "bar_color": null,
            "_model_module": "@jupyter-widgets/controls"
          }
        },
        "4bf5b43b4cac4571981fe5b97caebccf": {
          "model_module": "@jupyter-widgets/base",
          "model_name": "LayoutModel",
          "state": {
            "_view_name": "LayoutView",
            "grid_template_rows": null,
            "right": null,
            "justify_content": null,
            "_view_module": "@jupyter-widgets/base",
            "overflow": null,
            "_model_module_version": "1.2.0",
            "_view_count": null,
            "flex_flow": null,
            "width": null,
            "min_width": null,
            "border": null,
            "align_items": null,
            "bottom": null,
            "_model_module": "@jupyter-widgets/base",
            "top": null,
            "grid_column": null,
            "overflow_y": null,
            "overflow_x": null,
            "grid_auto_flow": null,
            "grid_area": null,
            "grid_template_columns": null,
            "flex": null,
            "_model_name": "LayoutModel",
            "justify_items": null,
            "grid_row": null,
            "max_height": null,
            "align_content": null,
            "visibility": null,
            "align_self": null,
            "height": null,
            "min_height": null,
            "padding": null,
            "grid_auto_rows": null,
            "grid_gap": null,
            "max_width": null,
            "order": null,
            "_view_module_version": "1.2.0",
            "grid_template_areas": null,
            "object_position": null,
            "object_fit": null,
            "grid_auto_columns": null,
            "margin": null,
            "display": null,
            "left": null
          }
        },
        "041af1948d9e436393e69f89281ee0cf": {
          "model_module": "@jupyter-widgets/controls",
          "model_name": "DescriptionStyleModel",
          "state": {
            "_view_name": "StyleView",
            "_model_name": "DescriptionStyleModel",
            "description_width": "",
            "_view_module": "@jupyter-widgets/base",
            "_model_module_version": "1.5.0",
            "_view_count": null,
            "_view_module_version": "1.2.0",
            "_model_module": "@jupyter-widgets/controls"
          }
        },
        "79c0195e03364fc0bb7a1ef1adff04e9": {
          "model_module": "@jupyter-widgets/base",
          "model_name": "LayoutModel",
          "state": {
            "_view_name": "LayoutView",
            "grid_template_rows": null,
            "right": null,
            "justify_content": null,
            "_view_module": "@jupyter-widgets/base",
            "overflow": null,
            "_model_module_version": "1.2.0",
            "_view_count": null,
            "flex_flow": null,
            "width": null,
            "min_width": null,
            "border": null,
            "align_items": null,
            "bottom": null,
            "_model_module": "@jupyter-widgets/base",
            "top": null,
            "grid_column": null,
            "overflow_y": null,
            "overflow_x": null,
            "grid_auto_flow": null,
            "grid_area": null,
            "grid_template_columns": null,
            "flex": null,
            "_model_name": "LayoutModel",
            "justify_items": null,
            "grid_row": null,
            "max_height": null,
            "align_content": null,
            "visibility": null,
            "align_self": null,
            "height": null,
            "min_height": null,
            "padding": null,
            "grid_auto_rows": null,
            "grid_gap": null,
            "max_width": null,
            "order": null,
            "_view_module_version": "1.2.0",
            "grid_template_areas": null,
            "object_position": null,
            "object_fit": null,
            "grid_auto_columns": null,
            "margin": null,
            "display": null,
            "left": null
          }
        },
        "a8ca24f0131f4b2180f16117a4742f5d": {
          "model_module": "@jupyter-widgets/controls",
          "model_name": "HBoxModel",
          "state": {
            "_view_name": "HBoxView",
            "_dom_classes": [],
            "_model_name": "HBoxModel",
            "_view_module": "@jupyter-widgets/controls",
            "_model_module_version": "1.5.0",
            "_view_count": null,
            "_view_module_version": "1.5.0",
            "box_style": "",
            "layout": "IPY_MODEL_a145b66b155a4757bde97530a50350a0",
            "_model_module": "@jupyter-widgets/controls",
            "children": [
              "IPY_MODEL_f15c27071b8c4561ad6896c8aa87d2f9",
              "IPY_MODEL_f0041ae21e1f48dfb302ffbea19e898f"
            ]
          }
        },
        "a145b66b155a4757bde97530a50350a0": {
          "model_module": "@jupyter-widgets/base",
          "model_name": "LayoutModel",
          "state": {
            "_view_name": "LayoutView",
            "grid_template_rows": null,
            "right": null,
            "justify_content": null,
            "_view_module": "@jupyter-widgets/base",
            "overflow": null,
            "_model_module_version": "1.2.0",
            "_view_count": null,
            "flex_flow": null,
            "width": null,
            "min_width": null,
            "border": null,
            "align_items": null,
            "bottom": null,
            "_model_module": "@jupyter-widgets/base",
            "top": null,
            "grid_column": null,
            "overflow_y": null,
            "overflow_x": null,
            "grid_auto_flow": null,
            "grid_area": null,
            "grid_template_columns": null,
            "flex": null,
            "_model_name": "LayoutModel",
            "justify_items": null,
            "grid_row": null,
            "max_height": null,
            "align_content": null,
            "visibility": null,
            "align_self": null,
            "height": null,
            "min_height": null,
            "padding": null,
            "grid_auto_rows": null,
            "grid_gap": null,
            "max_width": null,
            "order": null,
            "_view_module_version": "1.2.0",
            "grid_template_areas": null,
            "object_position": null,
            "object_fit": null,
            "grid_auto_columns": null,
            "margin": null,
            "display": null,
            "left": null
          }
        },
        "f15c27071b8c4561ad6896c8aa87d2f9": {
          "model_module": "@jupyter-widgets/controls",
          "model_name": "FloatProgressModel",
          "state": {
            "_view_name": "ProgressView",
            "style": "IPY_MODEL_c5a3e87b82524d74ad47aaede4022b56",
            "_dom_classes": [],
            "description": " 63%",
            "_model_name": "FloatProgressModel",
            "bar_style": "danger",
            "max": 25000,
            "_view_module": "@jupyter-widgets/controls",
            "_model_module_version": "1.5.0",
            "value": 15785,
            "_view_count": null,
            "_view_module_version": "1.5.0",
            "orientation": "horizontal",
            "min": 0,
            "description_tooltip": null,
            "_model_module": "@jupyter-widgets/controls",
            "layout": "IPY_MODEL_fa80c3b3b45949cdafe803e09878eac4"
          }
        },
        "f0041ae21e1f48dfb302ffbea19e898f": {
          "model_module": "@jupyter-widgets/controls",
          "model_name": "HTMLModel",
          "state": {
            "_view_name": "HTMLView",
            "style": "IPY_MODEL_60fbdf0daed0421ab08a5e227a747c62",
            "_dom_classes": [],
            "description": "",
            "_model_name": "HTMLModel",
            "placeholder": "​",
            "_view_module": "@jupyter-widgets/controls",
            "_model_module_version": "1.5.0",
            "value": " 15785/25000 [00:00&lt;00:00, 157847.89 examples/s]",
            "_view_count": null,
            "_view_module_version": "1.5.0",
            "description_tooltip": null,
            "_model_module": "@jupyter-widgets/controls",
            "layout": "IPY_MODEL_2f2d394a73cf415087a8004b06344440"
          }
        },
        "c5a3e87b82524d74ad47aaede4022b56": {
          "model_module": "@jupyter-widgets/controls",
          "model_name": "ProgressStyleModel",
          "state": {
            "_view_name": "StyleView",
            "_model_name": "ProgressStyleModel",
            "description_width": "initial",
            "_view_module": "@jupyter-widgets/base",
            "_model_module_version": "1.5.0",
            "_view_count": null,
            "_view_module_version": "1.2.0",
            "bar_color": null,
            "_model_module": "@jupyter-widgets/controls"
          }
        },
        "fa80c3b3b45949cdafe803e09878eac4": {
          "model_module": "@jupyter-widgets/base",
          "model_name": "LayoutModel",
          "state": {
            "_view_name": "LayoutView",
            "grid_template_rows": null,
            "right": null,
            "justify_content": null,
            "_view_module": "@jupyter-widgets/base",
            "overflow": null,
            "_model_module_version": "1.2.0",
            "_view_count": null,
            "flex_flow": null,
            "width": null,
            "min_width": null,
            "border": null,
            "align_items": null,
            "bottom": null,
            "_model_module": "@jupyter-widgets/base",
            "top": null,
            "grid_column": null,
            "overflow_y": null,
            "overflow_x": null,
            "grid_auto_flow": null,
            "grid_area": null,
            "grid_template_columns": null,
            "flex": null,
            "_model_name": "LayoutModel",
            "justify_items": null,
            "grid_row": null,
            "max_height": null,
            "align_content": null,
            "visibility": null,
            "align_self": null,
            "height": null,
            "min_height": null,
            "padding": null,
            "grid_auto_rows": null,
            "grid_gap": null,
            "max_width": null,
            "order": null,
            "_view_module_version": "1.2.0",
            "grid_template_areas": null,
            "object_position": null,
            "object_fit": null,
            "grid_auto_columns": null,
            "margin": null,
            "display": null,
            "left": null
          }
        },
        "60fbdf0daed0421ab08a5e227a747c62": {
          "model_module": "@jupyter-widgets/controls",
          "model_name": "DescriptionStyleModel",
          "state": {
            "_view_name": "StyleView",
            "_model_name": "DescriptionStyleModel",
            "description_width": "",
            "_view_module": "@jupyter-widgets/base",
            "_model_module_version": "1.5.0",
            "_view_count": null,
            "_view_module_version": "1.2.0",
            "_model_module": "@jupyter-widgets/controls"
          }
        },
        "2f2d394a73cf415087a8004b06344440": {
          "model_module": "@jupyter-widgets/base",
          "model_name": "LayoutModel",
          "state": {
            "_view_name": "LayoutView",
            "grid_template_rows": null,
            "right": null,
            "justify_content": null,
            "_view_module": "@jupyter-widgets/base",
            "overflow": null,
            "_model_module_version": "1.2.0",
            "_view_count": null,
            "flex_flow": null,
            "width": null,
            "min_width": null,
            "border": null,
            "align_items": null,
            "bottom": null,
            "_model_module": "@jupyter-widgets/base",
            "top": null,
            "grid_column": null,
            "overflow_y": null,
            "overflow_x": null,
            "grid_auto_flow": null,
            "grid_area": null,
            "grid_template_columns": null,
            "flex": null,
            "_model_name": "LayoutModel",
            "justify_items": null,
            "grid_row": null,
            "max_height": null,
            "align_content": null,
            "visibility": null,
            "align_self": null,
            "height": null,
            "min_height": null,
            "padding": null,
            "grid_auto_rows": null,
            "grid_gap": null,
            "max_width": null,
            "order": null,
            "_view_module_version": "1.2.0",
            "grid_template_areas": null,
            "object_position": null,
            "object_fit": null,
            "grid_auto_columns": null,
            "margin": null,
            "display": null,
            "left": null
          }
        },
        "aa91bb82d48f416b8a8b95842a867437": {
          "model_module": "@jupyter-widgets/controls",
          "model_name": "HBoxModel",
          "state": {
            "_view_name": "HBoxView",
            "_dom_classes": [],
            "_model_name": "HBoxModel",
            "_view_module": "@jupyter-widgets/controls",
            "_model_module_version": "1.5.0",
            "_view_count": null,
            "_view_module_version": "1.5.0",
            "box_style": "",
            "layout": "IPY_MODEL_5cae4ed08923462e8c808a6c1ad5e525",
            "_model_module": "@jupyter-widgets/controls",
            "children": [
              "IPY_MODEL_70cafcd9cdff4087be853595eadb0290",
              "IPY_MODEL_b59867adffdb4aaeaa589634e1e33a8e"
            ]
          }
        },
        "5cae4ed08923462e8c808a6c1ad5e525": {
          "model_module": "@jupyter-widgets/base",
          "model_name": "LayoutModel",
          "state": {
            "_view_name": "LayoutView",
            "grid_template_rows": null,
            "right": null,
            "justify_content": null,
            "_view_module": "@jupyter-widgets/base",
            "overflow": null,
            "_model_module_version": "1.2.0",
            "_view_count": null,
            "flex_flow": null,
            "width": null,
            "min_width": null,
            "border": null,
            "align_items": null,
            "bottom": null,
            "_model_module": "@jupyter-widgets/base",
            "top": null,
            "grid_column": null,
            "overflow_y": null,
            "overflow_x": null,
            "grid_auto_flow": null,
            "grid_area": null,
            "grid_template_columns": null,
            "flex": null,
            "_model_name": "LayoutModel",
            "justify_items": null,
            "grid_row": null,
            "max_height": null,
            "align_content": null,
            "visibility": null,
            "align_self": null,
            "height": null,
            "min_height": null,
            "padding": null,
            "grid_auto_rows": null,
            "grid_gap": null,
            "max_width": null,
            "order": null,
            "_view_module_version": "1.2.0",
            "grid_template_areas": null,
            "object_position": null,
            "object_fit": null,
            "grid_auto_columns": null,
            "margin": null,
            "display": null,
            "left": null
          }
        },
        "70cafcd9cdff4087be853595eadb0290": {
          "model_module": "@jupyter-widgets/controls",
          "model_name": "FloatProgressModel",
          "state": {
            "_view_name": "ProgressView",
            "style": "IPY_MODEL_454715aede6b4639a6f06ca4fff8feca",
            "_dom_classes": [],
            "description": "",
            "_model_name": "FloatProgressModel",
            "bar_style": "info",
            "max": 1,
            "_view_module": "@jupyter-widgets/controls",
            "_model_module_version": "1.5.0",
            "value": 1,
            "_view_count": null,
            "_view_module_version": "1.5.0",
            "orientation": "horizontal",
            "min": 0,
            "description_tooltip": null,
            "_model_module": "@jupyter-widgets/controls",
            "layout": "IPY_MODEL_498920d686af4a169f2c1d225766305c"
          }
        },
        "b59867adffdb4aaeaa589634e1e33a8e": {
          "model_module": "@jupyter-widgets/controls",
          "model_name": "HTMLModel",
          "state": {
            "_view_name": "HTMLView",
            "style": "IPY_MODEL_4e748d0522e34b48840e44059a6d49e2",
            "_dom_classes": [],
            "description": "",
            "_model_name": "HTMLModel",
            "placeholder": "​",
            "_view_module": "@jupyter-widgets/controls",
            "_model_module_version": "1.5.0",
            "value": " 25000/0 [00:12&lt;00:00, 3588.24 examples/s]",
            "_view_count": null,
            "_view_module_version": "1.5.0",
            "description_tooltip": null,
            "_model_module": "@jupyter-widgets/controls",
            "layout": "IPY_MODEL_cf3cb9e0ab104220a05e41ac688cf228"
          }
        },
        "454715aede6b4639a6f06ca4fff8feca": {
          "model_module": "@jupyter-widgets/controls",
          "model_name": "ProgressStyleModel",
          "state": {
            "_view_name": "StyleView",
            "_model_name": "ProgressStyleModel",
            "description_width": "initial",
            "_view_module": "@jupyter-widgets/base",
            "_model_module_version": "1.5.0",
            "_view_count": null,
            "_view_module_version": "1.2.0",
            "bar_color": null,
            "_model_module": "@jupyter-widgets/controls"
          }
        },
        "498920d686af4a169f2c1d225766305c": {
          "model_module": "@jupyter-widgets/base",
          "model_name": "LayoutModel",
          "state": {
            "_view_name": "LayoutView",
            "grid_template_rows": null,
            "right": null,
            "justify_content": null,
            "_view_module": "@jupyter-widgets/base",
            "overflow": null,
            "_model_module_version": "1.2.0",
            "_view_count": null,
            "flex_flow": null,
            "width": null,
            "min_width": null,
            "border": null,
            "align_items": null,
            "bottom": null,
            "_model_module": "@jupyter-widgets/base",
            "top": null,
            "grid_column": null,
            "overflow_y": null,
            "overflow_x": null,
            "grid_auto_flow": null,
            "grid_area": null,
            "grid_template_columns": null,
            "flex": null,
            "_model_name": "LayoutModel",
            "justify_items": null,
            "grid_row": null,
            "max_height": null,
            "align_content": null,
            "visibility": null,
            "align_self": null,
            "height": null,
            "min_height": null,
            "padding": null,
            "grid_auto_rows": null,
            "grid_gap": null,
            "max_width": null,
            "order": null,
            "_view_module_version": "1.2.0",
            "grid_template_areas": null,
            "object_position": null,
            "object_fit": null,
            "grid_auto_columns": null,
            "margin": null,
            "display": null,
            "left": null
          }
        },
        "4e748d0522e34b48840e44059a6d49e2": {
          "model_module": "@jupyter-widgets/controls",
          "model_name": "DescriptionStyleModel",
          "state": {
            "_view_name": "StyleView",
            "_model_name": "DescriptionStyleModel",
            "description_width": "",
            "_view_module": "@jupyter-widgets/base",
            "_model_module_version": "1.5.0",
            "_view_count": null,
            "_view_module_version": "1.2.0",
            "_model_module": "@jupyter-widgets/controls"
          }
        },
        "cf3cb9e0ab104220a05e41ac688cf228": {
          "model_module": "@jupyter-widgets/base",
          "model_name": "LayoutModel",
          "state": {
            "_view_name": "LayoutView",
            "grid_template_rows": null,
            "right": null,
            "justify_content": null,
            "_view_module": "@jupyter-widgets/base",
            "overflow": null,
            "_model_module_version": "1.2.0",
            "_view_count": null,
            "flex_flow": null,
            "width": null,
            "min_width": null,
            "border": null,
            "align_items": null,
            "bottom": null,
            "_model_module": "@jupyter-widgets/base",
            "top": null,
            "grid_column": null,
            "overflow_y": null,
            "overflow_x": null,
            "grid_auto_flow": null,
            "grid_area": null,
            "grid_template_columns": null,
            "flex": null,
            "_model_name": "LayoutModel",
            "justify_items": null,
            "grid_row": null,
            "max_height": null,
            "align_content": null,
            "visibility": null,
            "align_self": null,
            "height": null,
            "min_height": null,
            "padding": null,
            "grid_auto_rows": null,
            "grid_gap": null,
            "max_width": null,
            "order": null,
            "_view_module_version": "1.2.0",
            "grid_template_areas": null,
            "object_position": null,
            "object_fit": null,
            "grid_auto_columns": null,
            "margin": null,
            "display": null,
            "left": null
          }
        },
        "7ad4c823ec86498fb9f6decc69d8c46f": {
          "model_module": "@jupyter-widgets/controls",
          "model_name": "HBoxModel",
          "state": {
            "_view_name": "HBoxView",
            "_dom_classes": [],
            "_model_name": "HBoxModel",
            "_view_module": "@jupyter-widgets/controls",
            "_model_module_version": "1.5.0",
            "_view_count": null,
            "_view_module_version": "1.5.0",
            "box_style": "",
            "layout": "IPY_MODEL_89d23395f43a48389ef037b73077a7b3",
            "_model_module": "@jupyter-widgets/controls",
            "children": [
              "IPY_MODEL_07027a325b484283a0bffe841df6f820",
              "IPY_MODEL_c6aaede52d314474a3730fa28c962a7e"
            ]
          }
        },
        "89d23395f43a48389ef037b73077a7b3": {
          "model_module": "@jupyter-widgets/base",
          "model_name": "LayoutModel",
          "state": {
            "_view_name": "LayoutView",
            "grid_template_rows": null,
            "right": null,
            "justify_content": null,
            "_view_module": "@jupyter-widgets/base",
            "overflow": null,
            "_model_module_version": "1.2.0",
            "_view_count": null,
            "flex_flow": null,
            "width": null,
            "min_width": null,
            "border": null,
            "align_items": null,
            "bottom": null,
            "_model_module": "@jupyter-widgets/base",
            "top": null,
            "grid_column": null,
            "overflow_y": null,
            "overflow_x": null,
            "grid_auto_flow": null,
            "grid_area": null,
            "grid_template_columns": null,
            "flex": null,
            "_model_name": "LayoutModel",
            "justify_items": null,
            "grid_row": null,
            "max_height": null,
            "align_content": null,
            "visibility": null,
            "align_self": null,
            "height": null,
            "min_height": null,
            "padding": null,
            "grid_auto_rows": null,
            "grid_gap": null,
            "max_width": null,
            "order": null,
            "_view_module_version": "1.2.0",
            "grid_template_areas": null,
            "object_position": null,
            "object_fit": null,
            "grid_auto_columns": null,
            "margin": null,
            "display": null,
            "left": null
          }
        },
        "07027a325b484283a0bffe841df6f820": {
          "model_module": "@jupyter-widgets/controls",
          "model_name": "FloatProgressModel",
          "state": {
            "_view_name": "ProgressView",
            "style": "IPY_MODEL_8198da800a4b41dc983ea412c83d11e0",
            "_dom_classes": [],
            "description": " 61%",
            "_model_name": "FloatProgressModel",
            "bar_style": "danger",
            "max": 25000,
            "_view_module": "@jupyter-widgets/controls",
            "_model_module_version": "1.5.0",
            "value": 15344,
            "_view_count": null,
            "_view_module_version": "1.5.0",
            "orientation": "horizontal",
            "min": 0,
            "description_tooltip": null,
            "_model_module": "@jupyter-widgets/controls",
            "layout": "IPY_MODEL_d1a08f8f6d9843cb994146dff82dc066"
          }
        },
        "c6aaede52d314474a3730fa28c962a7e": {
          "model_module": "@jupyter-widgets/controls",
          "model_name": "HTMLModel",
          "state": {
            "_view_name": "HTMLView",
            "style": "IPY_MODEL_46cc1a5f527f4b97ab753abf9d2a398a",
            "_dom_classes": [],
            "description": "",
            "_model_name": "HTMLModel",
            "placeholder": "​",
            "_view_module": "@jupyter-widgets/controls",
            "_model_module_version": "1.5.0",
            "value": " 15344/25000 [00:00&lt;00:00, 153438.68 examples/s]",
            "_view_count": null,
            "_view_module_version": "1.5.0",
            "description_tooltip": null,
            "_model_module": "@jupyter-widgets/controls",
            "layout": "IPY_MODEL_aaafce454fa4411091d05179788e0d8e"
          }
        },
        "8198da800a4b41dc983ea412c83d11e0": {
          "model_module": "@jupyter-widgets/controls",
          "model_name": "ProgressStyleModel",
          "state": {
            "_view_name": "StyleView",
            "_model_name": "ProgressStyleModel",
            "description_width": "initial",
            "_view_module": "@jupyter-widgets/base",
            "_model_module_version": "1.5.0",
            "_view_count": null,
            "_view_module_version": "1.2.0",
            "bar_color": null,
            "_model_module": "@jupyter-widgets/controls"
          }
        },
        "d1a08f8f6d9843cb994146dff82dc066": {
          "model_module": "@jupyter-widgets/base",
          "model_name": "LayoutModel",
          "state": {
            "_view_name": "LayoutView",
            "grid_template_rows": null,
            "right": null,
            "justify_content": null,
            "_view_module": "@jupyter-widgets/base",
            "overflow": null,
            "_model_module_version": "1.2.0",
            "_view_count": null,
            "flex_flow": null,
            "width": null,
            "min_width": null,
            "border": null,
            "align_items": null,
            "bottom": null,
            "_model_module": "@jupyter-widgets/base",
            "top": null,
            "grid_column": null,
            "overflow_y": null,
            "overflow_x": null,
            "grid_auto_flow": null,
            "grid_area": null,
            "grid_template_columns": null,
            "flex": null,
            "_model_name": "LayoutModel",
            "justify_items": null,
            "grid_row": null,
            "max_height": null,
            "align_content": null,
            "visibility": null,
            "align_self": null,
            "height": null,
            "min_height": null,
            "padding": null,
            "grid_auto_rows": null,
            "grid_gap": null,
            "max_width": null,
            "order": null,
            "_view_module_version": "1.2.0",
            "grid_template_areas": null,
            "object_position": null,
            "object_fit": null,
            "grid_auto_columns": null,
            "margin": null,
            "display": null,
            "left": null
          }
        },
        "46cc1a5f527f4b97ab753abf9d2a398a": {
          "model_module": "@jupyter-widgets/controls",
          "model_name": "DescriptionStyleModel",
          "state": {
            "_view_name": "StyleView",
            "_model_name": "DescriptionStyleModel",
            "description_width": "",
            "_view_module": "@jupyter-widgets/base",
            "_model_module_version": "1.5.0",
            "_view_count": null,
            "_view_module_version": "1.2.0",
            "_model_module": "@jupyter-widgets/controls"
          }
        },
        "aaafce454fa4411091d05179788e0d8e": {
          "model_module": "@jupyter-widgets/base",
          "model_name": "LayoutModel",
          "state": {
            "_view_name": "LayoutView",
            "grid_template_rows": null,
            "right": null,
            "justify_content": null,
            "_view_module": "@jupyter-widgets/base",
            "overflow": null,
            "_model_module_version": "1.2.0",
            "_view_count": null,
            "flex_flow": null,
            "width": null,
            "min_width": null,
            "border": null,
            "align_items": null,
            "bottom": null,
            "_model_module": "@jupyter-widgets/base",
            "top": null,
            "grid_column": null,
            "overflow_y": null,
            "overflow_x": null,
            "grid_auto_flow": null,
            "grid_area": null,
            "grid_template_columns": null,
            "flex": null,
            "_model_name": "LayoutModel",
            "justify_items": null,
            "grid_row": null,
            "max_height": null,
            "align_content": null,
            "visibility": null,
            "align_self": null,
            "height": null,
            "min_height": null,
            "padding": null,
            "grid_auto_rows": null,
            "grid_gap": null,
            "max_width": null,
            "order": null,
            "_view_module_version": "1.2.0",
            "grid_template_areas": null,
            "object_position": null,
            "object_fit": null,
            "grid_auto_columns": null,
            "margin": null,
            "display": null,
            "left": null
          }
        },
        "0ce57057e5a64e728b0243785c02213a": {
          "model_module": "@jupyter-widgets/controls",
          "model_name": "HBoxModel",
          "state": {
            "_view_name": "HBoxView",
            "_dom_classes": [],
            "_model_name": "HBoxModel",
            "_view_module": "@jupyter-widgets/controls",
            "_model_module_version": "1.5.0",
            "_view_count": null,
            "_view_module_version": "1.5.0",
            "box_style": "",
            "layout": "IPY_MODEL_e6026cd0f59547a4a9e6dd79f784b859",
            "_model_module": "@jupyter-widgets/controls",
            "children": [
              "IPY_MODEL_0ecb8e86a5c2418cae2f6c474382e3cd",
              "IPY_MODEL_fb6c587b3fed4458963bc16c94ef45e1"
            ]
          }
        },
        "e6026cd0f59547a4a9e6dd79f784b859": {
          "model_module": "@jupyter-widgets/base",
          "model_name": "LayoutModel",
          "state": {
            "_view_name": "LayoutView",
            "grid_template_rows": null,
            "right": null,
            "justify_content": null,
            "_view_module": "@jupyter-widgets/base",
            "overflow": null,
            "_model_module_version": "1.2.0",
            "_view_count": null,
            "flex_flow": null,
            "width": null,
            "min_width": null,
            "border": null,
            "align_items": null,
            "bottom": null,
            "_model_module": "@jupyter-widgets/base",
            "top": null,
            "grid_column": null,
            "overflow_y": null,
            "overflow_x": null,
            "grid_auto_flow": null,
            "grid_area": null,
            "grid_template_columns": null,
            "flex": null,
            "_model_name": "LayoutModel",
            "justify_items": null,
            "grid_row": null,
            "max_height": null,
            "align_content": null,
            "visibility": null,
            "align_self": null,
            "height": null,
            "min_height": null,
            "padding": null,
            "grid_auto_rows": null,
            "grid_gap": null,
            "max_width": null,
            "order": null,
            "_view_module_version": "1.2.0",
            "grid_template_areas": null,
            "object_position": null,
            "object_fit": null,
            "grid_auto_columns": null,
            "margin": null,
            "display": null,
            "left": null
          }
        },
        "0ecb8e86a5c2418cae2f6c474382e3cd": {
          "model_module": "@jupyter-widgets/controls",
          "model_name": "FloatProgressModel",
          "state": {
            "_view_name": "ProgressView",
            "style": "IPY_MODEL_998fdb8a532646738f7c105b3378dee8",
            "_dom_classes": [],
            "description": "",
            "_model_name": "FloatProgressModel",
            "bar_style": "info",
            "max": 1,
            "_view_module": "@jupyter-widgets/controls",
            "_model_module_version": "1.5.0",
            "value": 1,
            "_view_count": null,
            "_view_module_version": "1.5.0",
            "orientation": "horizontal",
            "min": 0,
            "description_tooltip": null,
            "_model_module": "@jupyter-widgets/controls",
            "layout": "IPY_MODEL_da0c16124b3b43c1a6500121f7f29975"
          }
        },
        "fb6c587b3fed4458963bc16c94ef45e1": {
          "model_module": "@jupyter-widgets/controls",
          "model_name": "HTMLModel",
          "state": {
            "_view_name": "HTMLView",
            "style": "IPY_MODEL_ec71d0072b674dd199ab778ad662c2bf",
            "_dom_classes": [],
            "description": "",
            "_model_name": "HTMLModel",
            "placeholder": "​",
            "_view_module": "@jupyter-widgets/controls",
            "_model_module_version": "1.5.0",
            "value": " 50000/0 [00:17&lt;00:00, 3524.80 examples/s]",
            "_view_count": null,
            "_view_module_version": "1.5.0",
            "description_tooltip": null,
            "_model_module": "@jupyter-widgets/controls",
            "layout": "IPY_MODEL_1ae32d238db244e09dc55cbb3a9e2320"
          }
        },
        "998fdb8a532646738f7c105b3378dee8": {
          "model_module": "@jupyter-widgets/controls",
          "model_name": "ProgressStyleModel",
          "state": {
            "_view_name": "StyleView",
            "_model_name": "ProgressStyleModel",
            "description_width": "initial",
            "_view_module": "@jupyter-widgets/base",
            "_model_module_version": "1.5.0",
            "_view_count": null,
            "_view_module_version": "1.2.0",
            "bar_color": null,
            "_model_module": "@jupyter-widgets/controls"
          }
        },
        "da0c16124b3b43c1a6500121f7f29975": {
          "model_module": "@jupyter-widgets/base",
          "model_name": "LayoutModel",
          "state": {
            "_view_name": "LayoutView",
            "grid_template_rows": null,
            "right": null,
            "justify_content": null,
            "_view_module": "@jupyter-widgets/base",
            "overflow": null,
            "_model_module_version": "1.2.0",
            "_view_count": null,
            "flex_flow": null,
            "width": null,
            "min_width": null,
            "border": null,
            "align_items": null,
            "bottom": null,
            "_model_module": "@jupyter-widgets/base",
            "top": null,
            "grid_column": null,
            "overflow_y": null,
            "overflow_x": null,
            "grid_auto_flow": null,
            "grid_area": null,
            "grid_template_columns": null,
            "flex": null,
            "_model_name": "LayoutModel",
            "justify_items": null,
            "grid_row": null,
            "max_height": null,
            "align_content": null,
            "visibility": null,
            "align_self": null,
            "height": null,
            "min_height": null,
            "padding": null,
            "grid_auto_rows": null,
            "grid_gap": null,
            "max_width": null,
            "order": null,
            "_view_module_version": "1.2.0",
            "grid_template_areas": null,
            "object_position": null,
            "object_fit": null,
            "grid_auto_columns": null,
            "margin": null,
            "display": null,
            "left": null
          }
        },
        "ec71d0072b674dd199ab778ad662c2bf": {
          "model_module": "@jupyter-widgets/controls",
          "model_name": "DescriptionStyleModel",
          "state": {
            "_view_name": "StyleView",
            "_model_name": "DescriptionStyleModel",
            "description_width": "",
            "_view_module": "@jupyter-widgets/base",
            "_model_module_version": "1.5.0",
            "_view_count": null,
            "_view_module_version": "1.2.0",
            "_model_module": "@jupyter-widgets/controls"
          }
        },
        "1ae32d238db244e09dc55cbb3a9e2320": {
          "model_module": "@jupyter-widgets/base",
          "model_name": "LayoutModel",
          "state": {
            "_view_name": "LayoutView",
            "grid_template_rows": null,
            "right": null,
            "justify_content": null,
            "_view_module": "@jupyter-widgets/base",
            "overflow": null,
            "_model_module_version": "1.2.0",
            "_view_count": null,
            "flex_flow": null,
            "width": null,
            "min_width": null,
            "border": null,
            "align_items": null,
            "bottom": null,
            "_model_module": "@jupyter-widgets/base",
            "top": null,
            "grid_column": null,
            "overflow_y": null,
            "overflow_x": null,
            "grid_auto_flow": null,
            "grid_area": null,
            "grid_template_columns": null,
            "flex": null,
            "_model_name": "LayoutModel",
            "justify_items": null,
            "grid_row": null,
            "max_height": null,
            "align_content": null,
            "visibility": null,
            "align_self": null,
            "height": null,
            "min_height": null,
            "padding": null,
            "grid_auto_rows": null,
            "grid_gap": null,
            "max_width": null,
            "order": null,
            "_view_module_version": "1.2.0",
            "grid_template_areas": null,
            "object_position": null,
            "object_fit": null,
            "grid_auto_columns": null,
            "margin": null,
            "display": null,
            "left": null
          }
        },
        "7c04438554d54cacb280c982a11cb320": {
          "model_module": "@jupyter-widgets/controls",
          "model_name": "HBoxModel",
          "state": {
            "_view_name": "HBoxView",
            "_dom_classes": [],
            "_model_name": "HBoxModel",
            "_view_module": "@jupyter-widgets/controls",
            "_model_module_version": "1.5.0",
            "_view_count": null,
            "_view_module_version": "1.5.0",
            "box_style": "",
            "layout": "IPY_MODEL_118dfcc274414682a06c7f1202afc81c",
            "_model_module": "@jupyter-widgets/controls",
            "children": [
              "IPY_MODEL_f35c71ba0e644f4d8aa1378fa2d5514f",
              "IPY_MODEL_c7b0ed0615f6464daaacb891d215793d"
            ]
          }
        },
        "118dfcc274414682a06c7f1202afc81c": {
          "model_module": "@jupyter-widgets/base",
          "model_name": "LayoutModel",
          "state": {
            "_view_name": "LayoutView",
            "grid_template_rows": null,
            "right": null,
            "justify_content": null,
            "_view_module": "@jupyter-widgets/base",
            "overflow": null,
            "_model_module_version": "1.2.0",
            "_view_count": null,
            "flex_flow": null,
            "width": null,
            "min_width": null,
            "border": null,
            "align_items": null,
            "bottom": null,
            "_model_module": "@jupyter-widgets/base",
            "top": null,
            "grid_column": null,
            "overflow_y": null,
            "overflow_x": null,
            "grid_auto_flow": null,
            "grid_area": null,
            "grid_template_columns": null,
            "flex": null,
            "_model_name": "LayoutModel",
            "justify_items": null,
            "grid_row": null,
            "max_height": null,
            "align_content": null,
            "visibility": null,
            "align_self": null,
            "height": null,
            "min_height": null,
            "padding": null,
            "grid_auto_rows": null,
            "grid_gap": null,
            "max_width": null,
            "order": null,
            "_view_module_version": "1.2.0",
            "grid_template_areas": null,
            "object_position": null,
            "object_fit": null,
            "grid_auto_columns": null,
            "margin": null,
            "display": null,
            "left": null
          }
        },
        "f35c71ba0e644f4d8aa1378fa2d5514f": {
          "model_module": "@jupyter-widgets/controls",
          "model_name": "FloatProgressModel",
          "state": {
            "_view_name": "ProgressView",
            "style": "IPY_MODEL_2b084dc3ec0644d192a072d9db5955cc",
            "_dom_classes": [],
            "description": " 74%",
            "_model_name": "FloatProgressModel",
            "bar_style": "danger",
            "max": 50000,
            "_view_module": "@jupyter-widgets/controls",
            "_model_module_version": "1.5.0",
            "value": 37025,
            "_view_count": null,
            "_view_module_version": "1.5.0",
            "orientation": "horizontal",
            "min": 0,
            "description_tooltip": null,
            "_model_module": "@jupyter-widgets/controls",
            "layout": "IPY_MODEL_d326f0a137af43f7b8ab6550c408e47b"
          }
        },
        "c7b0ed0615f6464daaacb891d215793d": {
          "model_module": "@jupyter-widgets/controls",
          "model_name": "HTMLModel",
          "state": {
            "_view_name": "HTMLView",
            "style": "IPY_MODEL_a483d6cbe2d241f4a915b02053e3d0b0",
            "_dom_classes": [],
            "description": "",
            "_model_name": "HTMLModel",
            "placeholder": "​",
            "_view_module": "@jupyter-widgets/controls",
            "_model_module_version": "1.5.0",
            "value": " 37025/50000 [00:00&lt;00:00, 104784.80 examples/s]",
            "_view_count": null,
            "_view_module_version": "1.5.0",
            "description_tooltip": null,
            "_model_module": "@jupyter-widgets/controls",
            "layout": "IPY_MODEL_f277dc43c3454cbb867981f074022390"
          }
        },
        "2b084dc3ec0644d192a072d9db5955cc": {
          "model_module": "@jupyter-widgets/controls",
          "model_name": "ProgressStyleModel",
          "state": {
            "_view_name": "StyleView",
            "_model_name": "ProgressStyleModel",
            "description_width": "initial",
            "_view_module": "@jupyter-widgets/base",
            "_model_module_version": "1.5.0",
            "_view_count": null,
            "_view_module_version": "1.2.0",
            "bar_color": null,
            "_model_module": "@jupyter-widgets/controls"
          }
        },
        "d326f0a137af43f7b8ab6550c408e47b": {
          "model_module": "@jupyter-widgets/base",
          "model_name": "LayoutModel",
          "state": {
            "_view_name": "LayoutView",
            "grid_template_rows": null,
            "right": null,
            "justify_content": null,
            "_view_module": "@jupyter-widgets/base",
            "overflow": null,
            "_model_module_version": "1.2.0",
            "_view_count": null,
            "flex_flow": null,
            "width": null,
            "min_width": null,
            "border": null,
            "align_items": null,
            "bottom": null,
            "_model_module": "@jupyter-widgets/base",
            "top": null,
            "grid_column": null,
            "overflow_y": null,
            "overflow_x": null,
            "grid_auto_flow": null,
            "grid_area": null,
            "grid_template_columns": null,
            "flex": null,
            "_model_name": "LayoutModel",
            "justify_items": null,
            "grid_row": null,
            "max_height": null,
            "align_content": null,
            "visibility": null,
            "align_self": null,
            "height": null,
            "min_height": null,
            "padding": null,
            "grid_auto_rows": null,
            "grid_gap": null,
            "max_width": null,
            "order": null,
            "_view_module_version": "1.2.0",
            "grid_template_areas": null,
            "object_position": null,
            "object_fit": null,
            "grid_auto_columns": null,
            "margin": null,
            "display": null,
            "left": null
          }
        },
        "a483d6cbe2d241f4a915b02053e3d0b0": {
          "model_module": "@jupyter-widgets/controls",
          "model_name": "DescriptionStyleModel",
          "state": {
            "_view_name": "StyleView",
            "_model_name": "DescriptionStyleModel",
            "description_width": "",
            "_view_module": "@jupyter-widgets/base",
            "_model_module_version": "1.5.0",
            "_view_count": null,
            "_view_module_version": "1.2.0",
            "_model_module": "@jupyter-widgets/controls"
          }
        },
        "f277dc43c3454cbb867981f074022390": {
          "model_module": "@jupyter-widgets/base",
          "model_name": "LayoutModel",
          "state": {
            "_view_name": "LayoutView",
            "grid_template_rows": null,
            "right": null,
            "justify_content": null,
            "_view_module": "@jupyter-widgets/base",
            "overflow": null,
            "_model_module_version": "1.2.0",
            "_view_count": null,
            "flex_flow": null,
            "width": null,
            "min_width": null,
            "border": null,
            "align_items": null,
            "bottom": null,
            "_model_module": "@jupyter-widgets/base",
            "top": null,
            "grid_column": null,
            "overflow_y": null,
            "overflow_x": null,
            "grid_auto_flow": null,
            "grid_area": null,
            "grid_template_columns": null,
            "flex": null,
            "_model_name": "LayoutModel",
            "justify_items": null,
            "grid_row": null,
            "max_height": null,
            "align_content": null,
            "visibility": null,
            "align_self": null,
            "height": null,
            "min_height": null,
            "padding": null,
            "grid_auto_rows": null,
            "grid_gap": null,
            "max_width": null,
            "order": null,
            "_view_module_version": "1.2.0",
            "grid_template_areas": null,
            "object_position": null,
            "object_fit": null,
            "grid_auto_columns": null,
            "margin": null,
            "display": null,
            "left": null
          }
        }
      }
    }
  },
  "cells": [
    {
      "cell_type": "code",
      "metadata": {
        "id": "zX4Kg8DUTKWO"
      },
      "source": [
        "#@title Licensed under the Apache License, Version 2.0 (the \"License\");\n",
        "# you may not use this file except in compliance with the License.\n",
        "# You may obtain a copy of the License at\n",
        "#\n",
        "# https://www.apache.org/licenses/LICENSE-2.0\n",
        "#\n",
        "# Unless required by applicable law or agreed to in writing, software\n",
        "# distributed under the License is distributed on an \"AS IS\" BASIS,\n",
        "# WITHOUT WARRANTIES OR CONDITIONS OF ANY KIND, either express or implied.\n",
        "# See the License for the specific language governing permissions and\n",
        "# limitations under the License."
      ],
      "execution_count": 1,
      "outputs": []
    },
    {
      "cell_type": "code",
      "metadata": {
        "id": "P-AhVYeBWgQ3",
        "outputId": "a0cd2304-9c4f-46ed-dd38-0a525f3f927f",
        "colab": {
          "base_uri": "https://localhost:8080/",
          "height": 34
        }
      },
      "source": [
        "import tensorflow as tf\n",
        "print(tf.__version__)\n",
        "\n",
        "# !pip install -q tensorflow-datasets"
      ],
      "execution_count": 2,
      "outputs": [
        {
          "output_type": "stream",
          "text": [
            "2.3.0\n"
          ],
          "name": "stdout"
        }
      ]
    },
    {
      "cell_type": "code",
      "metadata": {
        "id": "_IoM4VFxWpMR",
        "outputId": "cd354d34-a295-427a-c581-19cb47a564c0",
        "colab": {
          "base_uri": "https://localhost:8080/",
          "height": 330,
          "referenced_widgets": [
            "2c5bfc8b9d5c41b586bef6c2aa8b7c9d",
            "a8b4776d57ef4924b2f02ad60bd7c7ef",
            "d7b15cb7812046ad8516121ff123e7ed",
            "3223758ad5214574aa045c9b7195c9db",
            "898407813c0c43adbb7da2707c3fc44d",
            "037d7eef40754a3e89b7a3dbd3ce5250",
            "92f6ec2ffbe14480912f2f61638d43a9",
            "28e61e47602040e8922fd5dbc3a56d89",
            "e155420a5a25448bbc3d1264a1a35cfe",
            "d5394a7ab0744d4b83e9193dd83dcc85",
            "281444737b044ab7950679120cf42e73",
            "f396f687e6444bcb9a04716d80d6ce63",
            "09615c24030943879e5ce6c01105f257",
            "2ee60834a25b48f8946a050da6916f5b",
            "34ba54e50452472984c5519514538571",
            "48f5791efbd041448456f40a0e3b2040",
            "5052e25bbb924c109a06d5123e4784a5",
            "460336fcdf5f4b8e9d63d865c2b72b57",
            "e10291466c6343cc810a8a7bab8a4963",
            "9876e08fda3649daab01855ab0387552",
            "ea7ce4b6b79a49c39e5f7b7e77d171c5",
            "4bf5b43b4cac4571981fe5b97caebccf",
            "041af1948d9e436393e69f89281ee0cf",
            "79c0195e03364fc0bb7a1ef1adff04e9",
            "a8ca24f0131f4b2180f16117a4742f5d",
            "a145b66b155a4757bde97530a50350a0",
            "f15c27071b8c4561ad6896c8aa87d2f9",
            "f0041ae21e1f48dfb302ffbea19e898f",
            "c5a3e87b82524d74ad47aaede4022b56",
            "fa80c3b3b45949cdafe803e09878eac4",
            "60fbdf0daed0421ab08a5e227a747c62",
            "2f2d394a73cf415087a8004b06344440",
            "aa91bb82d48f416b8a8b95842a867437",
            "5cae4ed08923462e8c808a6c1ad5e525",
            "70cafcd9cdff4087be853595eadb0290",
            "b59867adffdb4aaeaa589634e1e33a8e",
            "454715aede6b4639a6f06ca4fff8feca",
            "498920d686af4a169f2c1d225766305c",
            "4e748d0522e34b48840e44059a6d49e2",
            "cf3cb9e0ab104220a05e41ac688cf228",
            "7ad4c823ec86498fb9f6decc69d8c46f",
            "89d23395f43a48389ef037b73077a7b3",
            "07027a325b484283a0bffe841df6f820",
            "c6aaede52d314474a3730fa28c962a7e",
            "8198da800a4b41dc983ea412c83d11e0",
            "d1a08f8f6d9843cb994146dff82dc066",
            "46cc1a5f527f4b97ab753abf9d2a398a",
            "aaafce454fa4411091d05179788e0d8e",
            "0ce57057e5a64e728b0243785c02213a",
            "e6026cd0f59547a4a9e6dd79f784b859",
            "0ecb8e86a5c2418cae2f6c474382e3cd",
            "fb6c587b3fed4458963bc16c94ef45e1",
            "998fdb8a532646738f7c105b3378dee8",
            "da0c16124b3b43c1a6500121f7f29975",
            "ec71d0072b674dd199ab778ad662c2bf",
            "1ae32d238db244e09dc55cbb3a9e2320",
            "7c04438554d54cacb280c982a11cb320",
            "118dfcc274414682a06c7f1202afc81c",
            "f35c71ba0e644f4d8aa1378fa2d5514f",
            "c7b0ed0615f6464daaacb891d215793d",
            "2b084dc3ec0644d192a072d9db5955cc",
            "d326f0a137af43f7b8ab6550c408e47b",
            "a483d6cbe2d241f4a915b02053e3d0b0",
            "f277dc43c3454cbb867981f074022390"
          ]
        }
      },
      "source": [
        "import tensorflow_datasets as tfds\n",
        "imdb, info = tfds.load(\"imdb_reviews\", with_info=True, as_supervised=True)\n"
      ],
      "execution_count": 3,
      "outputs": [
        {
          "output_type": "stream",
          "text": [
            "\u001b[1mDownloading and preparing dataset imdb_reviews/plain_text/1.0.0 (download: 80.23 MiB, generated: Unknown size, total: 80.23 MiB) to /root/tensorflow_datasets/imdb_reviews/plain_text/1.0.0...\u001b[0m\n"
          ],
          "name": "stdout"
        },
        {
          "output_type": "display_data",
          "data": {
            "application/vnd.jupyter.widget-view+json": {
              "model_id": "2c5bfc8b9d5c41b586bef6c2aa8b7c9d",
              "version_minor": 0,
              "version_major": 2
            },
            "text/plain": [
              "HBox(children=(FloatProgress(value=1.0, bar_style='info', description='Dl Completed...', max=1.0, style=Progre…"
            ]
          },
          "metadata": {
            "tags": []
          }
        },
        {
          "output_type": "display_data",
          "data": {
            "application/vnd.jupyter.widget-view+json": {
              "model_id": "e155420a5a25448bbc3d1264a1a35cfe",
              "version_minor": 0,
              "version_major": 2
            },
            "text/plain": [
              "HBox(children=(FloatProgress(value=1.0, bar_style='info', description='Dl Size...', max=1.0, style=ProgressSty…"
            ]
          },
          "metadata": {
            "tags": []
          }
        },
        {
          "output_type": "stream",
          "text": [
            "\n",
            "\n",
            "\n",
            "\n"
          ],
          "name": "stdout"
        },
        {
          "output_type": "display_data",
          "data": {
            "application/vnd.jupyter.widget-view+json": {
              "model_id": "5052e25bbb924c109a06d5123e4784a5",
              "version_minor": 0,
              "version_major": 2
            },
            "text/plain": [
              "HBox(children=(FloatProgress(value=1.0, bar_style='info', max=1.0), HTML(value='')))"
            ]
          },
          "metadata": {
            "tags": []
          }
        },
        {
          "output_type": "stream",
          "text": [
            "\rShuffling and writing examples to /root/tensorflow_datasets/imdb_reviews/plain_text/1.0.0.incompleteDE1G7H/imdb_reviews-train.tfrecord\n"
          ],
          "name": "stdout"
        },
        {
          "output_type": "display_data",
          "data": {
            "application/vnd.jupyter.widget-view+json": {
              "model_id": "a8ca24f0131f4b2180f16117a4742f5d",
              "version_minor": 0,
              "version_major": 2
            },
            "text/plain": [
              "HBox(children=(FloatProgress(value=0.0, max=25000.0), HTML(value='')))"
            ]
          },
          "metadata": {
            "tags": []
          }
        },
        {
          "output_type": "stream",
          "text": [
            "\r"
          ],
          "name": "stdout"
        },
        {
          "output_type": "display_data",
          "data": {
            "application/vnd.jupyter.widget-view+json": {
              "model_id": "aa91bb82d48f416b8a8b95842a867437",
              "version_minor": 0,
              "version_major": 2
            },
            "text/plain": [
              "HBox(children=(FloatProgress(value=1.0, bar_style='info', max=1.0), HTML(value='')))"
            ]
          },
          "metadata": {
            "tags": []
          }
        },
        {
          "output_type": "stream",
          "text": [
            "\rShuffling and writing examples to /root/tensorflow_datasets/imdb_reviews/plain_text/1.0.0.incompleteDE1G7H/imdb_reviews-test.tfrecord\n"
          ],
          "name": "stdout"
        },
        {
          "output_type": "display_data",
          "data": {
            "application/vnd.jupyter.widget-view+json": {
              "model_id": "7ad4c823ec86498fb9f6decc69d8c46f",
              "version_minor": 0,
              "version_major": 2
            },
            "text/plain": [
              "HBox(children=(FloatProgress(value=0.0, max=25000.0), HTML(value='')))"
            ]
          },
          "metadata": {
            "tags": []
          }
        },
        {
          "output_type": "stream",
          "text": [
            "\r"
          ],
          "name": "stdout"
        },
        {
          "output_type": "display_data",
          "data": {
            "application/vnd.jupyter.widget-view+json": {
              "model_id": "0ce57057e5a64e728b0243785c02213a",
              "version_minor": 0,
              "version_major": 2
            },
            "text/plain": [
              "HBox(children=(FloatProgress(value=1.0, bar_style='info', max=1.0), HTML(value='')))"
            ]
          },
          "metadata": {
            "tags": []
          }
        },
        {
          "output_type": "stream",
          "text": [
            "\rShuffling and writing examples to /root/tensorflow_datasets/imdb_reviews/plain_text/1.0.0.incompleteDE1G7H/imdb_reviews-unsupervised.tfrecord\n"
          ],
          "name": "stdout"
        },
        {
          "output_type": "display_data",
          "data": {
            "application/vnd.jupyter.widget-view+json": {
              "model_id": "7c04438554d54cacb280c982a11cb320",
              "version_minor": 0,
              "version_major": 2
            },
            "text/plain": [
              "HBox(children=(FloatProgress(value=0.0, max=50000.0), HTML(value='')))"
            ]
          },
          "metadata": {
            "tags": []
          }
        },
        {
          "output_type": "stream",
          "text": [
            "\u001b[1mDataset imdb_reviews downloaded and prepared to /root/tensorflow_datasets/imdb_reviews/plain_text/1.0.0. Subsequent calls will reuse this data.\u001b[0m\n",
            "\r"
          ],
          "name": "stdout"
        }
      ]
    },
    {
      "cell_type": "code",
      "metadata": {
        "id": "wHQ2Ko0zl7M4"
      },
      "source": [
        "import numpy as np\n",
        "\n",
        "train_data, test_data = imdb['train'], imdb['test']\n",
        "\n",
        "training_sentences = []\n",
        "training_labels = []\n",
        "\n",
        "testing_sentences = []\n",
        "testing_labels = []\n",
        "\n",
        "# str(s.tonumpy()) is needed in Python3 instead of just s.numpy()\n",
        "for s,l in train_data:\n",
        "  training_sentences.append(str(s.numpy()))\n",
        "  training_labels.append(l.numpy())\n",
        "  \n",
        "for s,l in test_data:\n",
        "  testing_sentences.append(str(s.numpy()))\n",
        "  testing_labels.append(l.numpy())\n",
        "  \n",
        "training_labels_final = np.array(training_labels)\n",
        "testing_labels_final = np.array(testing_labels)\n"
      ],
      "execution_count": 4,
      "outputs": []
    },
    {
      "cell_type": "code",
      "metadata": {
        "id": "7n15yyMdmoH1"
      },
      "source": [
        "vocab_size = 10000\n",
        "embedding_dim = 16\n",
        "max_length = 120\n",
        "trunc_type='post'\n",
        "oov_tok = \"<OOV>\"\n",
        "\n",
        "\n",
        "from tensorflow.keras.preprocessing.text import Tokenizer\n",
        "from tensorflow.keras.preprocessing.sequence import pad_sequences\n",
        "\n",
        "tokenizer = Tokenizer(num_words = vocab_size, oov_token=oov_tok)\n",
        "tokenizer.fit_on_texts(training_sentences)\n",
        "word_index = tokenizer.word_index\n",
        "sequences = tokenizer.texts_to_sequences(training_sentences)\n",
        "padded = pad_sequences(sequences,maxlen=max_length, truncating=trunc_type)\n",
        "\n",
        "testing_sequences = tokenizer.texts_to_sequences(testing_sentences)\n",
        "testing_padded = pad_sequences(testing_sequences,maxlen=max_length)\n"
      ],
      "execution_count": 5,
      "outputs": []
    },
    {
      "cell_type": "code",
      "metadata": {
        "id": "9axf0uIXVMhO",
        "outputId": "aa8d186f-3868-4954-d3a9-1946a3a68081",
        "colab": {
          "base_uri": "https://localhost:8080/",
          "height": 71
        }
      },
      "source": [
        "reverse_word_index = dict([(value, key) for (key, value) in word_index.items()])\n",
        "\n",
        "def decode_review(text):\n",
        "    return ' '.join([reverse_word_index.get(i, '?') for i in text])\n",
        "\n",
        "print(decode_review(padded[1]))\n",
        "print(training_sentences[1])"
      ],
      "execution_count": 6,
      "outputs": [
        {
          "output_type": "stream",
          "text": [
            "? ? ? ? ? ? ? b'i have been known to fall asleep during films but this is usually due to a combination of things including really tired being warm and comfortable on the <OOV> and having just eaten a lot however on this occasion i fell asleep because the film was rubbish the plot development was constant constantly slow and boring things seemed to happen but with no explanation of what was causing them or why i admit i may have missed part of the film but i watched the majority of it and everything just seemed to happen of its own <OOV> without any real concern for anything else i cant recommend this film at all '\n",
            "b'I have been known to fall asleep during films, but this is usually due to a combination of things including, really tired, being warm and comfortable on the sette and having just eaten a lot. However on this occasion I fell asleep because the film was rubbish. The plot development was constant. Constantly slow and boring. Things seemed to happen, but with no explanation of what was causing them or why. I admit, I may have missed part of the film, but i watched the majority of it and everything just seemed to happen of its own accord without any real concern for anything else. I cant recommend this film at all.'\n"
          ],
          "name": "stdout"
        }
      ]
    },
    {
      "cell_type": "code",
      "metadata": {
        "id": "5NEpdhb8AxID",
        "outputId": "89fcc97c-763d-40fe-f619-3b662d30f002",
        "colab": {
          "base_uri": "https://localhost:8080/",
          "height": 290
        }
      },
      "source": [
        "model = tf.keras.Sequential([\n",
        "    tf.keras.layers.Embedding(vocab_size, embedding_dim, input_length=max_length),\n",
        "    tf.keras.layers.Bidirectional(tf.keras.layers.GRU(32)),\n",
        "    tf.keras.layers.Dense(6, activation='relu'),\n",
        "    tf.keras.layers.Dense(1, activation='sigmoid')\n",
        "])\n",
        "model.compile(loss='binary_crossentropy',optimizer='adam',metrics=['accuracy'])\n",
        "model.summary()\n"
      ],
      "execution_count": 7,
      "outputs": [
        {
          "output_type": "stream",
          "text": [
            "Model: \"sequential\"\n",
            "_________________________________________________________________\n",
            "Layer (type)                 Output Shape              Param #   \n",
            "=================================================================\n",
            "embedding (Embedding)        (None, 120, 16)           160000    \n",
            "_________________________________________________________________\n",
            "bidirectional (Bidirectional (None, 64)                9600      \n",
            "_________________________________________________________________\n",
            "dense (Dense)                (None, 6)                 390       \n",
            "_________________________________________________________________\n",
            "dense_1 (Dense)              (None, 1)                 7         \n",
            "=================================================================\n",
            "Total params: 169,997\n",
            "Trainable params: 169,997\n",
            "Non-trainable params: 0\n",
            "_________________________________________________________________\n"
          ],
          "name": "stdout"
        }
      ]
    },
    {
      "cell_type": "code",
      "metadata": {
        "id": "V5LLrXC-uNX6",
        "outputId": "67f2e452-00c0-4869-fd12-03e018febc26",
        "colab": {
          "base_uri": "https://localhost:8080/",
          "height": 1000
        }
      },
      "source": [
        "num_epochs = 50\n",
        "history = model.fit(padded, training_labels_final, epochs=num_epochs, validation_data=(testing_padded, testing_labels_final))"
      ],
      "execution_count": 8,
      "outputs": [
        {
          "output_type": "stream",
          "text": [
            "Epoch 1/50\n",
            "782/782 [==============================] - 15s 20ms/step - loss: 0.5318 - accuracy: 0.7065 - val_loss: 0.3585 - val_accuracy: 0.8436\n",
            "Epoch 2/50\n",
            "782/782 [==============================] - 16s 20ms/step - loss: 0.3044 - accuracy: 0.8741 - val_loss: 0.3614 - val_accuracy: 0.8386\n",
            "Epoch 3/50\n",
            "782/782 [==============================] - 16s 20ms/step - loss: 0.2245 - accuracy: 0.9125 - val_loss: 0.3890 - val_accuracy: 0.8324\n",
            "Epoch 4/50\n",
            "782/782 [==============================] - 15s 19ms/step - loss: 0.1707 - accuracy: 0.9386 - val_loss: 0.4470 - val_accuracy: 0.8239\n",
            "Epoch 5/50\n",
            "782/782 [==============================] - 15s 19ms/step - loss: 0.1285 - accuracy: 0.9550 - val_loss: 0.4855 - val_accuracy: 0.8192\n",
            "Epoch 6/50\n",
            "782/782 [==============================] - 15s 19ms/step - loss: 0.0885 - accuracy: 0.9694 - val_loss: 0.6046 - val_accuracy: 0.8168\n",
            "Epoch 7/50\n",
            "782/782 [==============================] - 15s 19ms/step - loss: 0.0591 - accuracy: 0.9807 - val_loss: 0.7111 - val_accuracy: 0.8184\n",
            "Epoch 8/50\n",
            "782/782 [==============================] - 15s 19ms/step - loss: 0.0408 - accuracy: 0.9862 - val_loss: 0.8362 - val_accuracy: 0.8108\n",
            "Epoch 9/50\n",
            "782/782 [==============================] - 15s 19ms/step - loss: 0.0282 - accuracy: 0.9900 - val_loss: 0.9301 - val_accuracy: 0.8088\n",
            "Epoch 10/50\n",
            "782/782 [==============================] - 15s 20ms/step - loss: 0.0238 - accuracy: 0.9918 - val_loss: 0.9509 - val_accuracy: 0.8134\n",
            "Epoch 11/50\n",
            "782/782 [==============================] - 15s 20ms/step - loss: 0.0182 - accuracy: 0.9936 - val_loss: 1.0318 - val_accuracy: 0.8120\n",
            "Epoch 12/50\n",
            "782/782 [==============================] - 15s 19ms/step - loss: 0.0171 - accuracy: 0.9940 - val_loss: 1.0580 - val_accuracy: 0.8058\n",
            "Epoch 13/50\n",
            "782/782 [==============================] - 15s 19ms/step - loss: 0.0108 - accuracy: 0.9962 - val_loss: 1.1177 - val_accuracy: 0.8136\n",
            "Epoch 14/50\n",
            "782/782 [==============================] - 16s 20ms/step - loss: 0.0130 - accuracy: 0.9958 - val_loss: 1.1060 - val_accuracy: 0.8109\n",
            "Epoch 15/50\n",
            "782/782 [==============================] - 15s 20ms/step - loss: 0.0110 - accuracy: 0.9959 - val_loss: 1.2466 - val_accuracy: 0.8061\n",
            "Epoch 16/50\n",
            "782/782 [==============================] - 15s 19ms/step - loss: 0.0075 - accuracy: 0.9977 - val_loss: 1.2658 - val_accuracy: 0.8131\n",
            "Epoch 17/50\n",
            "782/782 [==============================] - 15s 20ms/step - loss: 0.0065 - accuracy: 0.9977 - val_loss: 1.3506 - val_accuracy: 0.8160\n",
            "Epoch 18/50\n",
            "782/782 [==============================] - 15s 20ms/step - loss: 0.0111 - accuracy: 0.9959 - val_loss: 1.2430 - val_accuracy: 0.8118\n",
            "Epoch 19/50\n",
            "782/782 [==============================] - 15s 20ms/step - loss: 0.0088 - accuracy: 0.9970 - val_loss: 1.3002 - val_accuracy: 0.8104\n",
            "Epoch 20/50\n",
            "782/782 [==============================] - 15s 20ms/step - loss: 0.0044 - accuracy: 0.9985 - val_loss: 1.5074 - val_accuracy: 0.8108\n",
            "Epoch 21/50\n",
            "782/782 [==============================] - 15s 19ms/step - loss: 0.0086 - accuracy: 0.9972 - val_loss: 1.3107 - val_accuracy: 0.8081\n",
            "Epoch 22/50\n",
            "782/782 [==============================] - 15s 19ms/step - loss: 0.0050 - accuracy: 0.9984 - val_loss: 1.4302 - val_accuracy: 0.8151\n",
            "Epoch 23/50\n",
            "782/782 [==============================] - 16s 20ms/step - loss: 0.0026 - accuracy: 0.9994 - val_loss: 1.6278 - val_accuracy: 0.8131\n",
            "Epoch 24/50\n",
            "782/782 [==============================] - 16s 20ms/step - loss: 0.0053 - accuracy: 0.9983 - val_loss: 1.4732 - val_accuracy: 0.8172\n",
            "Epoch 25/50\n",
            "782/782 [==============================] - 15s 20ms/step - loss: 0.0063 - accuracy: 0.9978 - val_loss: 1.3011 - val_accuracy: 0.8011\n",
            "Epoch 26/50\n",
            "782/782 [==============================] - 15s 20ms/step - loss: 0.0063 - accuracy: 0.9978 - val_loss: 1.3775 - val_accuracy: 0.8103\n",
            "Epoch 27/50\n",
            "782/782 [==============================] - 15s 20ms/step - loss: 0.0043 - accuracy: 0.9987 - val_loss: 1.5408 - val_accuracy: 0.8130\n",
            "Epoch 28/50\n",
            "782/782 [==============================] - 15s 20ms/step - loss: 0.0011 - accuracy: 0.9996 - val_loss: 1.5604 - val_accuracy: 0.8033\n",
            "Epoch 29/50\n",
            "782/782 [==============================] - 16s 20ms/step - loss: 4.6651e-04 - accuracy: 1.0000 - val_loss: 1.6206 - val_accuracy: 0.8131\n",
            "Epoch 30/50\n",
            "782/782 [==============================] - 15s 19ms/step - loss: 3.9906e-05 - accuracy: 1.0000 - val_loss: 1.6844 - val_accuracy: 0.8138\n",
            "Epoch 31/50\n",
            "782/782 [==============================] - 15s 20ms/step - loss: 1.8585e-05 - accuracy: 1.0000 - val_loss: 1.7450 - val_accuracy: 0.8140\n",
            "Epoch 32/50\n",
            "782/782 [==============================] - 16s 20ms/step - loss: 1.2223e-05 - accuracy: 1.0000 - val_loss: 1.7999 - val_accuracy: 0.8138\n",
            "Epoch 33/50\n",
            "782/782 [==============================] - 15s 20ms/step - loss: 8.3979e-06 - accuracy: 1.0000 - val_loss: 1.8552 - val_accuracy: 0.8144\n",
            "Epoch 34/50\n",
            "782/782 [==============================] - 15s 20ms/step - loss: 5.7613e-06 - accuracy: 1.0000 - val_loss: 1.9117 - val_accuracy: 0.8146\n",
            "Epoch 35/50\n",
            "782/782 [==============================] - 16s 20ms/step - loss: 3.9449e-06 - accuracy: 1.0000 - val_loss: 1.9679 - val_accuracy: 0.8146\n",
            "Epoch 36/50\n",
            "782/782 [==============================] - 15s 20ms/step - loss: 2.6542e-06 - accuracy: 1.0000 - val_loss: 2.0285 - val_accuracy: 0.8148\n",
            "Epoch 37/50\n",
            "782/782 [==============================] - 16s 20ms/step - loss: 1.7896e-06 - accuracy: 1.0000 - val_loss: 2.0909 - val_accuracy: 0.8150\n",
            "Epoch 38/50\n",
            "782/782 [==============================] - 16s 20ms/step - loss: 1.2052e-06 - accuracy: 1.0000 - val_loss: 2.1536 - val_accuracy: 0.8150\n",
            "Epoch 39/50\n",
            "782/782 [==============================] - 16s 20ms/step - loss: 8.0518e-07 - accuracy: 1.0000 - val_loss: 2.2182 - val_accuracy: 0.8146\n",
            "Epoch 40/50\n",
            "782/782 [==============================] - 15s 20ms/step - loss: 5.3845e-07 - accuracy: 1.0000 - val_loss: 2.2807 - val_accuracy: 0.8145\n",
            "Epoch 41/50\n",
            "782/782 [==============================] - 16s 20ms/step - loss: 3.5775e-07 - accuracy: 1.0000 - val_loss: 2.3468 - val_accuracy: 0.8146\n",
            "Epoch 42/50\n",
            "782/782 [==============================] - 16s 20ms/step - loss: 2.3883e-07 - accuracy: 1.0000 - val_loss: 2.4140 - val_accuracy: 0.8142\n",
            "Epoch 43/50\n",
            "782/782 [==============================] - 16s 20ms/step - loss: 1.5928e-07 - accuracy: 1.0000 - val_loss: 2.4785 - val_accuracy: 0.8140\n",
            "Epoch 44/50\n",
            "782/782 [==============================] - 16s 20ms/step - loss: 1.0668e-07 - accuracy: 1.0000 - val_loss: 2.5423 - val_accuracy: 0.8142\n",
            "Epoch 45/50\n",
            "782/782 [==============================] - 15s 19ms/step - loss: 7.1571e-08 - accuracy: 1.0000 - val_loss: 2.6062 - val_accuracy: 0.8142\n",
            "Epoch 46/50\n",
            "782/782 [==============================] - 15s 20ms/step - loss: 4.8149e-08 - accuracy: 1.0000 - val_loss: 2.6709 - val_accuracy: 0.8147\n",
            "Epoch 47/50\n",
            "782/782 [==============================] - 15s 19ms/step - loss: 3.2610e-08 - accuracy: 1.0000 - val_loss: 2.7333 - val_accuracy: 0.8148\n",
            "Epoch 48/50\n",
            "782/782 [==============================] - 15s 20ms/step - loss: 2.2240e-08 - accuracy: 1.0000 - val_loss: 2.7941 - val_accuracy: 0.8147\n",
            "Epoch 49/50\n",
            "782/782 [==============================] - 15s 20ms/step - loss: 1.5325e-08 - accuracy: 1.0000 - val_loss: 2.8576 - val_accuracy: 0.8145\n",
            "Epoch 50/50\n",
            "782/782 [==============================] - 15s 20ms/step - loss: 1.0700e-08 - accuracy: 1.0000 - val_loss: 2.9151 - val_accuracy: 0.8142\n"
          ],
          "name": "stdout"
        }
      ]
    },
    {
      "cell_type": "code",
      "metadata": {
        "id": "nHGYuU4jPYaj",
        "outputId": "dbb542e7-32a6-4b0e-a362-aabbb9a1af24",
        "colab": {
          "base_uri": "https://localhost:8080/",
          "height": 540
        }
      },
      "source": [
        "import matplotlib.pyplot as plt\n",
        "\n",
        "\n",
        "def plot_graphs(history, string):\n",
        "  plt.plot(history.history[string])\n",
        "  plt.plot(history.history['val_'+string])\n",
        "  plt.xlabel(\"Epochs\")\n",
        "  plt.ylabel(string)\n",
        "  plt.legend([string, 'val_'+string])\n",
        "  plt.show()\n",
        "\n",
        "plot_graphs(history, 'accuracy')\n",
        "plot_graphs(history, 'loss')"
      ],
      "execution_count": 9,
      "outputs": [
        {
          "output_type": "display_data",
          "data": {
            "image/png": "[encoded data removed]",
            "text/plain": [
              "<Figure size 432x288 with 1 Axes>"
            ]
          },
          "metadata": {
            "tags": [],
            "needs_background": "light"
          }
        },
        {
          "output_type": "display_data",
          "data": {
            "image/png": "[encoded data removed]",
            "text/plain": [
              "<Figure size 432x288 with 1 Axes>"
            ]
          },
          "metadata": {
            "tags": [],
            "needs_background": "light"
          }
        }
      ]
    },
    {
      "cell_type": "code",
      "metadata": {
        "id": "wSualgGPPK0S",
        "outputId": "a8ead7a6-e5b2-49bf-9b2b-440c57d1f954",
        "colab": {
          "base_uri": "https://localhost:8080/",
          "height": 290
        }
      },
      "source": [
        "# Model Definition with LSTM\n",
        "model = tf.keras.Sequential([\n",
        "    tf.keras.layers.Embedding(vocab_size, embedding_dim, input_length=max_length),\n",
        "    tf.keras.layers.Bidirectional(tf.keras.layers.LSTM(32)),\n",
        "    tf.keras.layers.Dense(6, activation='relu'),\n",
        "    tf.keras.layers.Dense(1, activation='sigmoid')\n",
        "])\n",
        "model.compile(loss='binary_crossentropy',optimizer='adam',metrics=['accuracy'])\n",
        "model.summary()\n"
      ],
      "execution_count": 12,
      "outputs": [
        {
          "output_type": "stream",
          "text": [
            "Model: \"sequential_3\"\n",
            "_________________________________________________________________\n",
            "Layer (type)                 Output Shape              Param #   \n",
            "=================================================================\n",
            "embedding_3 (Embedding)      (None, 120, 16)           160000    \n",
            "_________________________________________________________________\n",
            "bidirectional_2 (Bidirection (None, 64)                12544     \n",
            "_________________________________________________________________\n",
            "dense_6 (Dense)              (None, 6)                 390       \n",
            "_________________________________________________________________\n",
            "dense_7 (Dense)              (None, 1)                 7         \n",
            "=================================================================\n",
            "Total params: 172,941\n",
            "Trainable params: 172,941\n",
            "Non-trainable params: 0\n",
            "_________________________________________________________________\n"
          ],
          "name": "stdout"
        }
      ]
    },
    {
      "cell_type": "code",
      "metadata": {
        "id": "2foAZAOb5pMU",
        "outputId": "424358cd-910c-4239-90f7-f7e0f829649f",
        "colab": {
          "base_uri": "https://localhost:8080/",
          "height": 1000
        }
      },
      "source": [
        "num_epochs = 50\n",
        "history = model.fit(padded, training_labels_final, epochs=num_epochs, validation_data=(testing_padded, testing_labels_final))"
      ],
      "execution_count": 13,
      "outputs": [
        {
          "output_type": "stream",
          "text": [
            "Epoch 1/50\n",
            "782/782 [==============================] - 16s 21ms/step - loss: 0.5846 - accuracy: 0.6838 - val_loss: 0.4316 - val_accuracy: 0.8070\n",
            "Epoch 2/50\n",
            "782/782 [==============================] - 16s 20ms/step - loss: 0.3505 - accuracy: 0.8511 - val_loss: 0.3641 - val_accuracy: 0.8416\n",
            "Epoch 3/50\n",
            "782/782 [==============================] - 15s 20ms/step - loss: 0.2601 - accuracy: 0.8978 - val_loss: 0.3634 - val_accuracy: 0.8432\n",
            "Epoch 4/50\n",
            "782/782 [==============================] - 15s 20ms/step - loss: 0.2067 - accuracy: 0.9230 - val_loss: 0.4073 - val_accuracy: 0.8366\n",
            "Epoch 5/50\n",
            "782/782 [==============================] - 16s 20ms/step - loss: 0.1647 - accuracy: 0.9410 - val_loss: 0.4516 - val_accuracy: 0.8300\n",
            "Epoch 6/50\n",
            "782/782 [==============================] - 15s 20ms/step - loss: 0.1232 - accuracy: 0.9578 - val_loss: 0.5570 - val_accuracy: 0.8188\n",
            "Epoch 7/50\n",
            "782/782 [==============================] - 15s 20ms/step - loss: 0.0909 - accuracy: 0.9705 - val_loss: 0.5337 - val_accuracy: 0.8094\n",
            "Epoch 8/50\n",
            "782/782 [==============================] - 15s 19ms/step - loss: 0.0643 - accuracy: 0.9796 - val_loss: 0.6629 - val_accuracy: 0.8172\n",
            "Epoch 9/50\n",
            "782/782 [==============================] - 15s 20ms/step - loss: 0.0519 - accuracy: 0.9829 - val_loss: 0.7060 - val_accuracy: 0.8169\n",
            "Epoch 10/50\n",
            "782/782 [==============================] - 16s 20ms/step - loss: 0.0338 - accuracy: 0.9901 - val_loss: 0.8361 - val_accuracy: 0.8117\n",
            "Epoch 11/50\n",
            "782/782 [==============================] - 16s 20ms/step - loss: 0.0295 - accuracy: 0.9906 - val_loss: 0.9404 - val_accuracy: 0.8147\n",
            "Epoch 12/50\n",
            "782/782 [==============================] - 16s 20ms/step - loss: 0.0234 - accuracy: 0.9919 - val_loss: 0.9698 - val_accuracy: 0.8083\n",
            "Epoch 13/50\n",
            "782/782 [==============================] - 16s 20ms/step - loss: 0.0229 - accuracy: 0.9928 - val_loss: 0.9658 - val_accuracy: 0.8072\n",
            "Epoch 14/50\n",
            "782/782 [==============================] - 16s 20ms/step - loss: 0.0165 - accuracy: 0.9947 - val_loss: 1.0544 - val_accuracy: 0.8022\n",
            "Epoch 15/50\n",
            "782/782 [==============================] - 16s 20ms/step - loss: 0.0131 - accuracy: 0.9958 - val_loss: 1.1087 - val_accuracy: 0.8064\n",
            "Epoch 16/50\n",
            "782/782 [==============================] - 15s 20ms/step - loss: 0.0150 - accuracy: 0.9948 - val_loss: 1.0845 - val_accuracy: 0.8015\n",
            "Epoch 17/50\n",
            "782/782 [==============================] - 16s 20ms/step - loss: 0.0131 - accuracy: 0.9957 - val_loss: 1.0975 - val_accuracy: 0.8066\n",
            "Epoch 18/50\n",
            "782/782 [==============================] - 15s 20ms/step - loss: 0.0067 - accuracy: 0.9982 - val_loss: 1.2248 - val_accuracy: 0.8109\n",
            "Epoch 19/50\n",
            "782/782 [==============================] - 16s 20ms/step - loss: 0.0115 - accuracy: 0.9958 - val_loss: 1.2884 - val_accuracy: 0.8084\n",
            "Epoch 20/50\n",
            "782/782 [==============================] - 16s 20ms/step - loss: 0.0124 - accuracy: 0.9962 - val_loss: 1.1588 - val_accuracy: 0.8059\n",
            "Epoch 21/50\n",
            "782/782 [==============================] - 16s 20ms/step - loss: 0.0117 - accuracy: 0.9962 - val_loss: 1.1514 - val_accuracy: 0.8082\n",
            "Epoch 22/50\n",
            "782/782 [==============================] - 15s 20ms/step - loss: 0.0079 - accuracy: 0.9976 - val_loss: 1.3616 - val_accuracy: 0.8148\n",
            "Epoch 23/50\n",
            "782/782 [==============================] - 15s 20ms/step - loss: 0.0074 - accuracy: 0.9972 - val_loss: 1.2629 - val_accuracy: 0.8034\n",
            "Epoch 24/50\n",
            "782/782 [==============================] - 15s 20ms/step - loss: 0.0093 - accuracy: 0.9968 - val_loss: 1.3708 - val_accuracy: 0.8135\n",
            "Epoch 25/50\n",
            "782/782 [==============================] - 15s 20ms/step - loss: 0.0075 - accuracy: 0.9978 - val_loss: 1.2931 - val_accuracy: 0.8109\n",
            "Epoch 26/50\n",
            "782/782 [==============================] - 15s 20ms/step - loss: 6.9070e-04 - accuracy: 1.0000 - val_loss: 1.3993 - val_accuracy: 0.8067\n",
            "Epoch 27/50\n",
            "782/782 [==============================] - 16s 20ms/step - loss: 1.6589e-04 - accuracy: 1.0000 - val_loss: 1.5078 - val_accuracy: 0.8104\n",
            "Epoch 28/50\n",
            "782/782 [==============================] - 16s 20ms/step - loss: 6.2702e-05 - accuracy: 1.0000 - val_loss: 1.5792 - val_accuracy: 0.8099\n",
            "Epoch 29/50\n",
            "782/782 [==============================] - 16s 20ms/step - loss: 3.5143e-05 - accuracy: 1.0000 - val_loss: 1.6471 - val_accuracy: 0.8105\n",
            "Epoch 30/50\n",
            "782/782 [==============================] - 15s 20ms/step - loss: 2.2185e-05 - accuracy: 1.0000 - val_loss: 1.7198 - val_accuracy: 0.8111\n",
            "Epoch 31/50\n",
            "782/782 [==============================] - 15s 20ms/step - loss: 1.4297e-05 - accuracy: 1.0000 - val_loss: 1.7959 - val_accuracy: 0.8104\n",
            "Epoch 32/50\n",
            "782/782 [==============================] - 16s 20ms/step - loss: 9.2477e-06 - accuracy: 1.0000 - val_loss: 1.8682 - val_accuracy: 0.8109\n",
            "Epoch 33/50\n",
            "782/782 [==============================] - 16s 20ms/step - loss: 5.9511e-06 - accuracy: 1.0000 - val_loss: 1.9448 - val_accuracy: 0.8110\n",
            "Epoch 34/50\n",
            "782/782 [==============================] - 16s 20ms/step - loss: 3.7770e-06 - accuracy: 1.0000 - val_loss: 2.0180 - val_accuracy: 0.8109\n",
            "Epoch 35/50\n",
            "782/782 [==============================] - 15s 20ms/step - loss: 2.3877e-06 - accuracy: 1.0000 - val_loss: 2.0981 - val_accuracy: 0.8112\n",
            "Epoch 36/50\n",
            "782/782 [==============================] - 15s 20ms/step - loss: 1.5006e-06 - accuracy: 1.0000 - val_loss: 2.1776 - val_accuracy: 0.8110\n",
            "Epoch 37/50\n",
            "782/782 [==============================] - 15s 19ms/step - loss: 9.3817e-07 - accuracy: 1.0000 - val_loss: 2.2612 - val_accuracy: 0.8105\n",
            "Epoch 38/50\n",
            "782/782 [==============================] - 16s 20ms/step - loss: 5.8544e-07 - accuracy: 1.0000 - val_loss: 2.3394 - val_accuracy: 0.8102\n",
            "Epoch 39/50\n",
            "782/782 [==============================] - 15s 20ms/step - loss: 3.6517e-07 - accuracy: 1.0000 - val_loss: 2.4231 - val_accuracy: 0.8104\n",
            "Epoch 40/50\n",
            "782/782 [==============================] - 16s 20ms/step - loss: 2.2871e-07 - accuracy: 1.0000 - val_loss: 2.5076 - val_accuracy: 0.8108\n",
            "Epoch 41/50\n",
            "782/782 [==============================] - 16s 20ms/step - loss: 1.4331e-07 - accuracy: 1.0000 - val_loss: 2.5837 - val_accuracy: 0.8100\n",
            "Epoch 42/50\n",
            "782/782 [==============================] - 16s 20ms/step - loss: 9.0689e-08 - accuracy: 1.0000 - val_loss: 2.6698 - val_accuracy: 0.8110\n",
            "Epoch 43/50\n",
            "782/782 [==============================] - 15s 20ms/step - loss: 5.8102e-08 - accuracy: 1.0000 - val_loss: 2.7435 - val_accuracy: 0.8106\n",
            "Epoch 44/50\n",
            "782/782 [==============================] - 16s 20ms/step - loss: 3.7767e-08 - accuracy: 1.0000 - val_loss: 2.8185 - val_accuracy: 0.8096\n",
            "Epoch 45/50\n",
            "782/782 [==============================] - 16s 20ms/step - loss: 2.4896e-08 - accuracy: 1.0000 - val_loss: 2.9000 - val_accuracy: 0.8104\n",
            "Epoch 46/50\n",
            "782/782 [==============================] - 15s 19ms/step - loss: 1.6729e-08 - accuracy: 1.0000 - val_loss: 2.9732 - val_accuracy: 0.8105\n",
            "Epoch 47/50\n",
            "782/782 [==============================] - 15s 20ms/step - loss: 1.1449e-08 - accuracy: 1.0000 - val_loss: 3.0358 - val_accuracy: 0.8101\n",
            "Epoch 48/50\n",
            "782/782 [==============================] - 15s 20ms/step - loss: 7.9929e-09 - accuracy: 1.0000 - val_loss: 3.1036 - val_accuracy: 0.8099\n",
            "Epoch 49/50\n",
            "782/782 [==============================] - 15s 20ms/step - loss: 5.6481e-09 - accuracy: 1.0000 - val_loss: 3.1596 - val_accuracy: 0.8100\n",
            "Epoch 50/50\n",
            "782/782 [==============================] - 16s 20ms/step - loss: 4.0665e-09 - accuracy: 1.0000 - val_loss: 3.2184 - val_accuracy: 0.8099\n"
          ],
          "name": "stdout"
        }
      ]
    },
    {
      "cell_type": "code",
      "metadata": {
        "id": "rcvyi5R25pMu",
        "outputId": "9cb6acae-0869-4743-805c-7aff19794ac5",
        "colab": {
          "base_uri": "https://localhost:8080/",
          "height": 540
        }
      },
      "source": [
        "import matplotlib.pyplot as plt\n",
        "\n",
        "\n",
        "def plot_graphs(history, string):\n",
        "  plt.plot(history.history[string])\n",
        "  plt.plot(history.history['val_'+string])\n",
        "  plt.xlabel(\"Epochs\")\n",
        "  plt.ylabel(string)\n",
        "  plt.legend([string, 'val_'+string])\n",
        "  plt.show()\n",
        "\n",
        "plot_graphs(history, 'accuracy')\n",
        "plot_graphs(history, 'loss')"
      ],
      "execution_count": 14,
      "outputs": [
        {
          "output_type": "display_data",
          "data": {
            "image/png": "[encoded data removed]",
            "text/plain": [
              "<Figure size 432x288 with 1 Axes>"
            ]
          },
          "metadata": {
            "tags": [],
            "needs_background": "light"
          }
        },
        {
          "output_type": "display_data",
          "data": {
            "image/png": "[encoded data removed]",
            "text/plain": [
              "<Figure size 432x288 with 1 Axes>"
            ]
          },
          "metadata": {
            "tags": [],
            "needs_background": "light"
          }
        }
      ]
    },
    {
      "cell_type": "code",
      "metadata": {
        "id": "K_Jc7cY3Qxke",
        "outputId": "5c2dcc22-f9ad-4820-b23b-fed182c41de6",
        "colab": {
          "base_uri": "https://localhost:8080/",
          "height": 324
        }
      },
      "source": [
        "# Model Definition with Conv1D\n",
        "model = tf.keras.Sequential([\n",
        "    tf.keras.layers.Embedding(vocab_size, embedding_dim, input_length=max_length),\n",
        "    tf.keras.layers.Conv1D(128, 5, activation='relu'),\n",
        "    tf.keras.layers.GlobalAveragePooling1D(),\n",
        "    tf.keras.layers.Dense(6, activation='relu'),\n",
        "    tf.keras.layers.Dense(1, activation='sigmoid')\n",
        "])\n",
        "model.compile(loss='binary_crossentropy',optimizer='adam',metrics=['accuracy'])\n",
        "model.summary()\n"
      ],
      "execution_count": 15,
      "outputs": [
        {
          "output_type": "stream",
          "text": [
            "Model: \"sequential_4\"\n",
            "_________________________________________________________________\n",
            "Layer (type)                 Output Shape              Param #   \n",
            "=================================================================\n",
            "embedding_4 (Embedding)      (None, 120, 16)           160000    \n",
            "_________________________________________________________________\n",
            "conv1d_1 (Conv1D)            (None, 116, 128)          10368     \n",
            "_________________________________________________________________\n",
            "global_average_pooling1d_1 ( (None, 128)               0         \n",
            "_________________________________________________________________\n",
            "dense_8 (Dense)              (None, 6)                 774       \n",
            "_________________________________________________________________\n",
            "dense_9 (Dense)              (None, 1)                 7         \n",
            "=================================================================\n",
            "Total params: 171,149\n",
            "Trainable params: 171,149\n",
            "Non-trainable params: 0\n",
            "_________________________________________________________________\n"
          ],
          "name": "stdout"
        }
      ]
    },
    {
      "cell_type": "code",
      "metadata": {
        "id": "085-V02h5qf_",
        "outputId": "ded09dda-b1ab-4ec7-9a86-0858feddef58",
        "colab": {
          "base_uri": "https://localhost:8080/",
          "height": 1000
        }
      },
      "source": [
        "num_epochs = 50\n",
        "history = model.fit(padded, training_labels_final, epochs=num_epochs, validation_data=(testing_padded, testing_labels_final))"
      ],
      "execution_count": 16,
      "outputs": [
        {
          "output_type": "stream",
          "text": [
            "Epoch 1/50\n",
            "782/782 [==============================] - 6s 7ms/step - loss: 0.4477 - accuracy: 0.7842 - val_loss: 0.3463 - val_accuracy: 0.8502\n",
            "Epoch 2/50\n",
            "782/782 [==============================] - 6s 7ms/step - loss: 0.2796 - accuracy: 0.8869 - val_loss: 0.3728 - val_accuracy: 0.8405\n",
            "Epoch 3/50\n",
            "782/782 [==============================] - 6s 8ms/step - loss: 0.2254 - accuracy: 0.9126 - val_loss: 0.3809 - val_accuracy: 0.8390\n",
            "Epoch 4/50\n",
            "782/782 [==============================] - 6s 7ms/step - loss: 0.1852 - accuracy: 0.9316 - val_loss: 0.4250 - val_accuracy: 0.8315\n",
            "Epoch 5/50\n",
            "782/782 [==============================] - 6s 8ms/step - loss: 0.1538 - accuracy: 0.9449 - val_loss: 0.4852 - val_accuracy: 0.8270\n",
            "Epoch 6/50\n",
            "782/782 [==============================] - 6s 8ms/step - loss: 0.1226 - accuracy: 0.9586 - val_loss: 0.5656 - val_accuracy: 0.8182\n",
            "Epoch 7/50\n",
            "782/782 [==============================] - 6s 7ms/step - loss: 0.0959 - accuracy: 0.9702 - val_loss: 0.6899 - val_accuracy: 0.8154\n",
            "Epoch 8/50\n",
            "782/782 [==============================] - 6s 8ms/step - loss: 0.0769 - accuracy: 0.9775 - val_loss: 0.7256 - val_accuracy: 0.8133\n",
            "Epoch 9/50\n",
            "782/782 [==============================] - 6s 7ms/step - loss: 0.0620 - accuracy: 0.9830 - val_loss: 0.8074 - val_accuracy: 0.8099\n",
            "Epoch 10/50\n",
            "782/782 [==============================] - 6s 7ms/step - loss: 0.0500 - accuracy: 0.9865 - val_loss: 1.0231 - val_accuracy: 0.8053\n",
            "Epoch 11/50\n",
            "782/782 [==============================] - 6s 7ms/step - loss: 0.0430 - accuracy: 0.9884 - val_loss: 1.2257 - val_accuracy: 0.8018\n",
            "Epoch 12/50\n",
            "782/782 [==============================] - 6s 7ms/step - loss: 0.0396 - accuracy: 0.9891 - val_loss: 1.1480 - val_accuracy: 0.8044\n",
            "Epoch 13/50\n",
            "782/782 [==============================] - 6s 7ms/step - loss: 0.0405 - accuracy: 0.9881 - val_loss: 1.2610 - val_accuracy: 0.8015\n",
            "Epoch 14/50\n",
            "782/782 [==============================] - 6s 7ms/step - loss: 0.0334 - accuracy: 0.9912 - val_loss: 1.2292 - val_accuracy: 0.8026\n",
            "Epoch 15/50\n",
            "782/782 [==============================] - 6s 7ms/step - loss: 0.0294 - accuracy: 0.9922 - val_loss: 1.3678 - val_accuracy: 0.7996\n",
            "Epoch 16/50\n",
            "782/782 [==============================] - 6s 7ms/step - loss: 0.0255 - accuracy: 0.9932 - val_loss: 1.3583 - val_accuracy: 0.8010\n",
            "Epoch 17/50\n",
            "782/782 [==============================] - 6s 7ms/step - loss: 0.0234 - accuracy: 0.9937 - val_loss: 1.5380 - val_accuracy: 0.7996\n",
            "Epoch 18/50\n",
            "782/782 [==============================] - 6s 7ms/step - loss: 0.0213 - accuracy: 0.9944 - val_loss: 1.4753 - val_accuracy: 0.8008\n",
            "Epoch 19/50\n",
            "782/782 [==============================] - 6s 7ms/step - loss: 0.0241 - accuracy: 0.9926 - val_loss: 1.5541 - val_accuracy: 0.7998\n",
            "Epoch 20/50\n",
            "782/782 [==============================] - 6s 7ms/step - loss: 0.0237 - accuracy: 0.9926 - val_loss: 1.4729 - val_accuracy: 0.8029\n",
            "Epoch 21/50\n",
            "782/782 [==============================] - 5s 7ms/step - loss: 0.0155 - accuracy: 0.9960 - val_loss: 1.6703 - val_accuracy: 0.7986\n",
            "Epoch 22/50\n",
            "782/782 [==============================] - 6s 7ms/step - loss: 0.0151 - accuracy: 0.9957 - val_loss: 1.6613 - val_accuracy: 0.7982\n",
            "Epoch 23/50\n",
            "782/782 [==============================] - 6s 7ms/step - loss: 0.0153 - accuracy: 0.9956 - val_loss: 1.8899 - val_accuracy: 0.7960\n",
            "Epoch 24/50\n",
            "782/782 [==============================] - 6s 7ms/step - loss: 0.0138 - accuracy: 0.9960 - val_loss: 1.8945 - val_accuracy: 0.8000\n",
            "Epoch 25/50\n",
            "782/782 [==============================] - 6s 8ms/step - loss: 0.0164 - accuracy: 0.9946 - val_loss: 1.6187 - val_accuracy: 0.8002\n",
            "Epoch 26/50\n",
            "782/782 [==============================] - 6s 8ms/step - loss: 0.0157 - accuracy: 0.9951 - val_loss: 1.7574 - val_accuracy: 0.7987\n",
            "Epoch 27/50\n",
            "782/782 [==============================] - 6s 8ms/step - loss: 0.0122 - accuracy: 0.9962 - val_loss: 1.8526 - val_accuracy: 0.8011\n",
            "Epoch 28/50\n",
            "782/782 [==============================] - 6s 8ms/step - loss: 0.0088 - accuracy: 0.9976 - val_loss: 1.9200 - val_accuracy: 0.7987\n",
            "Epoch 29/50\n",
            "782/782 [==============================] - 6s 7ms/step - loss: 0.0065 - accuracy: 0.9982 - val_loss: 2.0291 - val_accuracy: 0.7988\n",
            "Epoch 30/50\n",
            "782/782 [==============================] - 6s 7ms/step - loss: 0.0076 - accuracy: 0.9974 - val_loss: 1.9799 - val_accuracy: 0.7958\n",
            "Epoch 31/50\n",
            "782/782 [==============================] - 6s 8ms/step - loss: 0.0160 - accuracy: 0.9943 - val_loss: 2.0734 - val_accuracy: 0.7956\n",
            "Epoch 32/50\n",
            "782/782 [==============================] - 6s 7ms/step - loss: 0.0126 - accuracy: 0.9955 - val_loss: 1.9340 - val_accuracy: 0.7980\n",
            "Epoch 33/50\n",
            "782/782 [==============================] - 6s 7ms/step - loss: 0.0075 - accuracy: 0.9976 - val_loss: 2.0144 - val_accuracy: 0.7994\n",
            "Epoch 34/50\n",
            "782/782 [==============================] - 6s 7ms/step - loss: 0.0063 - accuracy: 0.9979 - val_loss: 2.1589 - val_accuracy: 0.7966\n",
            "Epoch 35/50\n",
            "782/782 [==============================] - 6s 7ms/step - loss: 0.0043 - accuracy: 0.9986 - val_loss: 2.1716 - val_accuracy: 0.7969\n",
            "Epoch 36/50\n",
            "782/782 [==============================] - 6s 7ms/step - loss: 0.0034 - accuracy: 0.9988 - val_loss: 2.1960 - val_accuracy: 0.7960\n",
            "Epoch 37/50\n",
            "782/782 [==============================] - 6s 7ms/step - loss: 0.0028 - accuracy: 0.9988 - val_loss: 2.2867 - val_accuracy: 0.7932\n",
            "Epoch 38/50\n",
            "782/782 [==============================] - 6s 7ms/step - loss: 0.0044 - accuracy: 0.9984 - val_loss: 2.2660 - val_accuracy: 0.7948\n",
            "Epoch 39/50\n",
            "782/782 [==============================] - 6s 7ms/step - loss: 0.0148 - accuracy: 0.9946 - val_loss: 2.1195 - val_accuracy: 0.7986\n",
            "Epoch 40/50\n",
            "782/782 [==============================] - 6s 7ms/step - loss: 0.0096 - accuracy: 0.9962 - val_loss: 2.3315 - val_accuracy: 0.7949\n",
            "Epoch 41/50\n",
            "782/782 [==============================] - 6s 8ms/step - loss: 0.0036 - accuracy: 0.9986 - val_loss: 2.1712 - val_accuracy: 0.7954\n",
            "Epoch 42/50\n",
            "782/782 [==============================] - 6s 8ms/step - loss: 0.0026 - accuracy: 0.9990 - val_loss: 2.4344 - val_accuracy: 0.7950\n",
            "Epoch 43/50\n",
            "782/782 [==============================] - 6s 7ms/step - loss: 0.0017 - accuracy: 0.9993 - val_loss: 2.4420 - val_accuracy: 0.7937\n",
            "Epoch 44/50\n",
            "782/782 [==============================] - 6s 7ms/step - loss: 0.0015 - accuracy: 0.9994 - val_loss: 2.4172 - val_accuracy: 0.7944\n",
            "Epoch 45/50\n",
            "782/782 [==============================] - 6s 7ms/step - loss: 0.0013 - accuracy: 0.9994 - val_loss: 2.4922 - val_accuracy: 0.7910\n",
            "Epoch 46/50\n",
            "782/782 [==============================] - 6s 7ms/step - loss: 9.8024e-04 - accuracy: 0.9997 - val_loss: 2.6459 - val_accuracy: 0.7914\n",
            "Epoch 47/50\n",
            "782/782 [==============================] - 6s 8ms/step - loss: 7.9518e-04 - accuracy: 0.9998 - val_loss: 2.7155 - val_accuracy: 0.7891\n",
            "Epoch 48/50\n",
            "782/782 [==============================] - 6s 7ms/step - loss: 7.9719e-04 - accuracy: 0.9998 - val_loss: 2.8822 - val_accuracy: 0.7862\n",
            "Epoch 49/50\n",
            "782/782 [==============================] - 6s 7ms/step - loss: 0.0196 - accuracy: 0.9942 - val_loss: 2.6463 - val_accuracy: 0.7925\n",
            "Epoch 50/50\n",
            "782/782 [==============================] - 6s 7ms/step - loss: 0.0075 - accuracy: 0.9972 - val_loss: 2.5493 - val_accuracy: 0.7964\n"
          ],
          "name": "stdout"
        }
      ]
    },
    {
      "cell_type": "code",
      "metadata": {
        "id": "Sx0o6V-C5qgG",
        "outputId": "02dd0bae-e587-4fdc-a22a-f9613f463b46",
        "colab": {
          "base_uri": "https://localhost:8080/",
          "height": 544
        }
      },
      "source": [
        "import matplotlib.pyplot as plt\n",
        "\n",
        "\n",
        "def plot_graphs(history, string):\n",
        "  plt.plot(history.history[string])\n",
        "  plt.plot(history.history['val_'+string])\n",
        "  plt.xlabel(\"Epochs\")\n",
        "  plt.ylabel(string)\n",
        "  plt.legend([string, 'val_'+string])\n",
        "  plt.show()\n",
        "\n",
        "plot_graphs(history, 'accuracy')\n",
        "plot_graphs(history, 'loss')"
      ],
      "execution_count": 17,
      "outputs": [
        {
          "output_type": "display_data",
          "data": {
            "image/png": "[encoded data removed]",
            "text/plain": [
              "<Figure size 432x288 with 1 Axes>"
            ]
          },
          "metadata": {
            "tags": [],
            "needs_background": "light"
          }
        },
        {
          "output_type": "display_data",
          "data": {
            "image/png": "[encoded data removed]",
            "text/plain": [
              "<Figure size 432x288 with 1 Axes>"
            ]
          },
          "metadata": {
            "tags": [],
            "needs_background": "light"
          }
        }
      ]
    },
    {
      "cell_type": "markdown",
      "metadata": {
        "id": "SlnWS9ap83Ns"
      },
      "source": [
        "--------------------"
      ]
    }
  ]
}