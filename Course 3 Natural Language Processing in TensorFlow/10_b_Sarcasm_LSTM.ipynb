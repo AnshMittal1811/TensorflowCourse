{
  "nbformat": 4,
  "nbformat_minor": 0,
  "metadata": {
    "accelerator": "GPU",
    "colab": {
      "name": "10_b_Sarcasm_LSTM.ipynb",
      "provenance": [],
      "collapsed_sections": [],
      "toc_visible": true
    },
    "kernelspec": {
      "display_name": "Python 3",
      "language": "python",
      "name": "python3"
    },
    "language_info": {
      "codemirror_mode": {
        "name": "ipython",
        "version": 3
      },
      "file_extension": ".py",
      "mimetype": "text/x-python",
      "name": "python",
      "nbconvert_exporter": "python",
      "pygments_lexer": "ipython3",
      "version": "3.7.6"
    }
  },
  "cells": [
    {
      "cell_type": "code",
      "metadata": {
        "id": "zX4Kg8DUTKWO"
      },
      "source": [
        "#@title Licensed under the Apache License, Version 2.0 (the \"License\");\n",
        "# you may not use this file except in compliance with the License.\n",
        "# You may obtain a copy of the License at\n",
        "#\n",
        "# https://www.apache.org/licenses/LICENSE-2.0\n",
        "#\n",
        "# Unless required by applicable law or agreed to in writing, software\n",
        "# distributed under the License is distributed on an \"AS IS\" BASIS,\n",
        "# WITHOUT WARRANTIES OR CONDITIONS OF ANY KIND, either express or implied.\n",
        "# See the License for the specific language governing permissions and\n",
        "# limitations under the License."
      ],
      "execution_count": 1,
      "outputs": []
    },
    {
      "cell_type": "markdown",
      "metadata": {
        "id": "YBxpNPWs15cR"
      },
      "source": [
        "<a href=\"https://colab.research.google.com/github/lmoroney/dlaicourse/blob/master/TensorFlow%20In%20Practice/Course%203%20-%20NLP/Course%203%20-%20Week%203%20-%20Lesson%202.ipynb\" target=\"_parent\"><img src=\"https://colab.research.google.com/assets/colab-badge.svg\" alt=\"Open In Colab\"/></a>"
      ]
    },
    {
      "cell_type": "code",
      "metadata": {
        "id": "jGwXGIXvFhXW",
        "outputId": "7f2ecb9f-da9e-4ba5-fa9e-cde86295dc0a",
        "colab": {
          "base_uri": "https://localhost:8080/",
          "height": 1000
        }
      },
      "source": [
        "import numpy as np\n",
        "\n",
        "import json\n",
        "import tensorflow as tf\n",
        "\n",
        "from tensorflow.keras.preprocessing.text import Tokenizer\n",
        "from tensorflow.keras.preprocessing.sequence import pad_sequences\n",
        "\n",
        "!wget --no-check-certificate \\\n",
        "    https://storage.googleapis.com/laurencemoroney-blog.appspot.com/sarcasm.json \\\n",
        "    -O /tmp/sarcasm.json\n",
        "\n",
        "vocab_size = 1000\n",
        "embedding_dim = 16\n",
        "max_length = 120\n",
        "trunc_type='post'\n",
        "padding_type='post'\n",
        "oov_tok = \"<OOV>\"\n",
        "training_size = 20000\n",
        "\n",
        "\n",
        "with open(\"/tmp/sarcasm.json\", 'r') as f:\n",
        "    datastore = json.load(f)\n",
        "\n",
        "\n",
        "sentences = []\n",
        "labels = []\n",
        "urls = []\n",
        "for item in datastore:\n",
        "    sentences.append(item['headline'])\n",
        "    labels.append(item['is_sarcastic'])\n",
        "\n",
        "training_sentences = sentences[0:training_size]\n",
        "testing_sentences = sentences[training_size:]\n",
        "training_labels = labels[0:training_size]\n",
        "testing_labels = labels[training_size:]\n",
        "\n",
        "tokenizer = Tokenizer(num_words=vocab_size, oov_token=oov_tok)\n",
        "tokenizer.fit_on_texts(training_sentences)\n",
        "\n",
        "word_index = tokenizer.word_index\n",
        "\n",
        "training_sequences = tokenizer.texts_to_sequences(training_sentences)\n",
        "training_padded = pad_sequences(training_sequences, maxlen=max_length, padding=padding_type, truncating=trunc_type)\n",
        "\n",
        "testing_sequences = tokenizer.texts_to_sequences(testing_sentences)\n",
        "testing_padded = pad_sequences(testing_sequences, maxlen=max_length, padding=padding_type, truncating=trunc_type)\n",
        "\n",
        "model = tf.keras.Sequential([\n",
        "    tf.keras.layers.Embedding(vocab_size, embedding_dim, input_length=max_length),\n",
        "    tf.keras.layers.Bidirectional(tf.keras.layers.LSTM(32)),\n",
        "    tf.keras.layers.Dense(24, activation='relu'),\n",
        "    tf.keras.layers.Dense(1, activation='sigmoid')\n",
        "])\n",
        "model.compile(loss='binary_crossentropy',optimizer='adam',metrics=['accuracy'])\n",
        "model.summary()\n",
        "\n",
        "num_epochs = 50\n",
        "training_padded = np.array(training_padded)\n",
        "training_labels = np.array(training_labels)\n",
        "testing_padded = np.array(testing_padded)\n",
        "testing_labels = np.array(testing_labels)\n",
        "history = model.fit(training_padded, training_labels, epochs=num_epochs, validation_data=(testing_padded, testing_labels), verbose=1)\n"
      ],
      "execution_count": 2,
      "outputs": [
        {
          "output_type": "stream",
          "text": [
            "--2020-10-20 07:39:47--  https://storage.googleapis.com/laurencemoroney-blog.appspot.com/sarcasm.json\n",
            "Resolving storage.googleapis.com (storage.googleapis.com)... 64.233.188.128, 64.233.189.128, 108.177.97.128, ...\n",
            "Connecting to storage.googleapis.com (storage.googleapis.com)|64.233.188.128|:443... connected.\n",
            "HTTP request sent, awaiting response... 200 OK\n",
            "Length: 5643545 (5.4M) [application/json]\n",
            "Saving to: ‘/tmp/sarcasm.json’\n",
            "\n",
            "\r/tmp/sarcasm.json     0%[                    ]       0  --.-KB/s               \r/tmp/sarcasm.json   100%[===================>]   5.38M  --.-KB/s    in 0.06s   \n",
            "\n",
            "2020-10-20 07:39:47 (86.5 MB/s) - ‘/tmp/sarcasm.json’ saved [5643545/5643545]\n",
            "\n",
            "Model: \"sequential\"\n",
            "_________________________________________________________________\n",
            "Layer (type)                 Output Shape              Param #   \n",
            "=================================================================\n",
            "embedding (Embedding)        (None, 120, 16)           16000     \n",
            "_________________________________________________________________\n",
            "bidirectional (Bidirectional (None, 64)                12544     \n",
            "_________________________________________________________________\n",
            "dense (Dense)                (None, 24)                1560      \n",
            "_________________________________________________________________\n",
            "dense_1 (Dense)              (None, 1)                 25        \n",
            "=================================================================\n",
            "Total params: 30,129\n",
            "Trainable params: 30,129\n",
            "Non-trainable params: 0\n",
            "_________________________________________________________________\n",
            "Epoch 1/50\n",
            "625/625 [==============================] - 37s 59ms/step - loss: 0.4525 - accuracy: 0.7700 - val_loss: 0.3874 - val_accuracy: 0.8240\n",
            "Epoch 2/50\n",
            "625/625 [==============================] - 36s 58ms/step - loss: 0.3593 - accuracy: 0.8341 - val_loss: 0.3794 - val_accuracy: 0.8269\n",
            "Epoch 3/50\n",
            "625/625 [==============================] - 36s 57ms/step - loss: 0.3309 - accuracy: 0.8498 - val_loss: 0.3689 - val_accuracy: 0.8316\n",
            "Epoch 4/50\n",
            "625/625 [==============================] - 35s 57ms/step - loss: 0.3132 - accuracy: 0.8594 - val_loss: 0.3719 - val_accuracy: 0.8328\n",
            "Epoch 5/50\n",
            "625/625 [==============================] - 36s 58ms/step - loss: 0.3008 - accuracy: 0.8674 - val_loss: 0.3697 - val_accuracy: 0.8356\n",
            "Epoch 6/50\n",
            "625/625 [==============================] - 36s 57ms/step - loss: 0.2913 - accuracy: 0.8717 - val_loss: 0.3724 - val_accuracy: 0.8338\n",
            "Epoch 7/50\n",
            "625/625 [==============================] - 36s 58ms/step - loss: 0.2824 - accuracy: 0.8769 - val_loss: 0.3881 - val_accuracy: 0.8289\n",
            "Epoch 8/50\n",
            "625/625 [==============================] - 36s 58ms/step - loss: 0.2731 - accuracy: 0.8805 - val_loss: 0.3861 - val_accuracy: 0.8329\n",
            "Epoch 9/50\n",
            "625/625 [==============================] - 36s 57ms/step - loss: 0.2688 - accuracy: 0.8826 - val_loss: 0.4162 - val_accuracy: 0.8193\n",
            "Epoch 10/50\n",
            "625/625 [==============================] - 36s 57ms/step - loss: 0.2613 - accuracy: 0.8871 - val_loss: 0.4024 - val_accuracy: 0.8284\n",
            "Epoch 11/50\n",
            "625/625 [==============================] - 36s 58ms/step - loss: 0.2559 - accuracy: 0.8893 - val_loss: 0.4118 - val_accuracy: 0.8305\n",
            "Epoch 12/50\n",
            "625/625 [==============================] - 36s 58ms/step - loss: 0.2477 - accuracy: 0.8927 - val_loss: 0.4216 - val_accuracy: 0.8253\n",
            "Epoch 13/50\n",
            "625/625 [==============================] - 36s 58ms/step - loss: 0.2398 - accuracy: 0.8964 - val_loss: 0.4312 - val_accuracy: 0.8173\n",
            "Epoch 14/50\n",
            "625/625 [==============================] - 36s 58ms/step - loss: 0.2323 - accuracy: 0.9015 - val_loss: 0.4385 - val_accuracy: 0.8235\n",
            "Epoch 15/50\n",
            "625/625 [==============================] - 36s 57ms/step - loss: 0.2259 - accuracy: 0.9039 - val_loss: 0.4555 - val_accuracy: 0.8179\n",
            "Epoch 16/50\n",
            "625/625 [==============================] - 36s 57ms/step - loss: 0.2184 - accuracy: 0.9088 - val_loss: 0.4429 - val_accuracy: 0.8201\n",
            "Epoch 17/50\n",
            "625/625 [==============================] - 36s 58ms/step - loss: 0.2111 - accuracy: 0.9117 - val_loss: 0.4723 - val_accuracy: 0.8216\n",
            "Epoch 18/50\n",
            "625/625 [==============================] - 36s 58ms/step - loss: 0.2014 - accuracy: 0.9161 - val_loss: 0.5367 - val_accuracy: 0.8167\n",
            "Epoch 19/50\n",
            "625/625 [==============================] - 36s 58ms/step - loss: 0.1942 - accuracy: 0.9194 - val_loss: 0.5273 - val_accuracy: 0.8149\n",
            "Epoch 20/50\n",
            "625/625 [==============================] - 36s 58ms/step - loss: 0.1876 - accuracy: 0.9222 - val_loss: 0.5750 - val_accuracy: 0.8053\n",
            "Epoch 21/50\n",
            "625/625 [==============================] - 36s 58ms/step - loss: 0.1792 - accuracy: 0.9259 - val_loss: 0.5765 - val_accuracy: 0.8146\n",
            "Epoch 22/50\n",
            "625/625 [==============================] - 36s 58ms/step - loss: 0.1696 - accuracy: 0.9311 - val_loss: 0.6196 - val_accuracy: 0.8156\n",
            "Epoch 23/50\n",
            "625/625 [==============================] - 36s 57ms/step - loss: 0.1639 - accuracy: 0.9327 - val_loss: 0.6280 - val_accuracy: 0.8100\n",
            "Epoch 24/50\n",
            "625/625 [==============================] - 36s 57ms/step - loss: 0.1582 - accuracy: 0.9342 - val_loss: 0.6740 - val_accuracy: 0.8082\n",
            "Epoch 25/50\n",
            "625/625 [==============================] - 36s 58ms/step - loss: 0.1516 - accuracy: 0.9384 - val_loss: 0.7465 - val_accuracy: 0.8092\n",
            "Epoch 26/50\n",
            "625/625 [==============================] - 36s 58ms/step - loss: 0.1456 - accuracy: 0.9409 - val_loss: 0.7502 - val_accuracy: 0.8079\n",
            "Epoch 27/50\n",
            "625/625 [==============================] - 36s 58ms/step - loss: 0.1395 - accuracy: 0.9442 - val_loss: 0.7808 - val_accuracy: 0.8038\n",
            "Epoch 28/50\n",
            "625/625 [==============================] - 36s 57ms/step - loss: 0.1341 - accuracy: 0.9448 - val_loss: 0.7862 - val_accuracy: 0.8058\n",
            "Epoch 29/50\n",
            "625/625 [==============================] - 36s 58ms/step - loss: 0.1314 - accuracy: 0.9477 - val_loss: 0.8331 - val_accuracy: 0.8056\n",
            "Epoch 30/50\n",
            "625/625 [==============================] - 36s 58ms/step - loss: 0.1238 - accuracy: 0.9506 - val_loss: 0.8720 - val_accuracy: 0.8024\n",
            "Epoch 31/50\n",
            "625/625 [==============================] - 36s 57ms/step - loss: 0.1194 - accuracy: 0.9517 - val_loss: 0.9017 - val_accuracy: 0.8040\n",
            "Epoch 32/50\n",
            "625/625 [==============================] - 36s 57ms/step - loss: 0.1099 - accuracy: 0.9546 - val_loss: 1.0522 - val_accuracy: 0.8041\n",
            "Epoch 33/50\n",
            "625/625 [==============================] - 36s 58ms/step - loss: 0.1112 - accuracy: 0.9542 - val_loss: 1.0024 - val_accuracy: 0.7992\n",
            "Epoch 34/50\n",
            "625/625 [==============================] - 36s 58ms/step - loss: 0.1071 - accuracy: 0.9549 - val_loss: 1.0320 - val_accuracy: 0.8010\n",
            "Epoch 35/50\n",
            "625/625 [==============================] - 36s 57ms/step - loss: 0.0991 - accuracy: 0.9594 - val_loss: 1.0286 - val_accuracy: 0.7985\n",
            "Epoch 36/50\n",
            "625/625 [==============================] - 36s 57ms/step - loss: 0.0962 - accuracy: 0.9602 - val_loss: 1.1246 - val_accuracy: 0.7940\n",
            "Epoch 37/50\n",
            "625/625 [==============================] - 36s 57ms/step - loss: 0.0932 - accuracy: 0.9617 - val_loss: 1.2933 - val_accuracy: 0.7973\n",
            "Epoch 38/50\n",
            "625/625 [==============================] - 36s 57ms/step - loss: 0.0903 - accuracy: 0.9627 - val_loss: 1.3392 - val_accuracy: 0.8022\n",
            "Epoch 39/50\n",
            "625/625 [==============================] - 36s 57ms/step - loss: 0.0863 - accuracy: 0.9642 - val_loss: 1.2689 - val_accuracy: 0.7962\n",
            "Epoch 40/50\n",
            "625/625 [==============================] - 36s 57ms/step - loss: 0.0828 - accuracy: 0.9650 - val_loss: 1.3919 - val_accuracy: 0.7961\n",
            "Epoch 41/50\n",
            "625/625 [==============================] - 36s 57ms/step - loss: 0.0821 - accuracy: 0.9661 - val_loss: 1.4018 - val_accuracy: 0.7997\n",
            "Epoch 42/50\n",
            "625/625 [==============================] - 36s 57ms/step - loss: 0.0755 - accuracy: 0.9686 - val_loss: 1.5443 - val_accuracy: 0.7910\n",
            "Epoch 43/50\n",
            "625/625 [==============================] - 36s 57ms/step - loss: 0.0762 - accuracy: 0.9675 - val_loss: 1.4316 - val_accuracy: 0.7898\n",
            "Epoch 44/50\n",
            "625/625 [==============================] - 36s 57ms/step - loss: 0.0724 - accuracy: 0.9697 - val_loss: 1.4695 - val_accuracy: 0.7915\n",
            "Epoch 45/50\n",
            "625/625 [==============================] - 36s 57ms/step - loss: 0.0688 - accuracy: 0.9705 - val_loss: 1.5532 - val_accuracy: 0.7952\n",
            "Epoch 46/50\n",
            "625/625 [==============================] - 36s 57ms/step - loss: 0.0682 - accuracy: 0.9711 - val_loss: 1.6447 - val_accuracy: 0.7946\n",
            "Epoch 47/50\n",
            "625/625 [==============================] - 36s 57ms/step - loss: 0.0663 - accuracy: 0.9718 - val_loss: 1.5553 - val_accuracy: 0.7928\n",
            "Epoch 48/50\n",
            "625/625 [==============================] - 36s 58ms/step - loss: 0.0646 - accuracy: 0.9718 - val_loss: 1.8075 - val_accuracy: 0.7939\n",
            "Epoch 49/50\n",
            "625/625 [==============================] - 36s 58ms/step - loss: 0.0634 - accuracy: 0.9724 - val_loss: 1.8174 - val_accuracy: 0.7855\n",
            "Epoch 50/50\n",
            "625/625 [==============================] - 36s 57ms/step - loss: 0.0657 - accuracy: 0.9717 - val_loss: 1.7943 - val_accuracy: 0.7937\n"
          ],
          "name": "stdout"
        }
      ]
    },
    {
      "cell_type": "code",
      "metadata": {
        "id": "g9DC6dmLF8DC",
        "outputId": "937da9d5-e12a-4f09-fd15-32bdaf9ea924",
        "colab": {
          "base_uri": "https://localhost:8080/",
          "height": 540
        }
      },
      "source": [
        "import matplotlib.pyplot as plt\n",
        "\n",
        "\n",
        "def plot_graphs(history, string):\n",
        "  plt.plot(history.history[string])\n",
        "  plt.plot(history.history['val_'+string])\n",
        "  plt.xlabel(\"Epochs\")\n",
        "  plt.ylabel(string)\n",
        "  plt.legend([string, 'val_'+string])\n",
        "  plt.show()\n",
        "\n",
        "plot_graphs(history, 'accuracy')\n",
        "plot_graphs(history, 'loss')"
      ],
      "execution_count": 3,
      "outputs": [
        {
          "output_type": "display_data",
          "data": {
            "image/png": "[encoded data removed]",
            "text/plain": [
              "<Figure size 432x288 with 1 Axes>"
            ]
          },
          "metadata": {
            "tags": [],
            "needs_background": "light"
          }
        },
        {
          "output_type": "display_data",
          "data": {
            "image/png": "[encoded data removed]",
            "text/plain": [
              "<Figure size 432x288 with 1 Axes>"
            ]
          },
          "metadata": {
            "tags": [],
            "needs_background": "light"
          }
        }
      ]
    },
    {
      "cell_type": "code",
      "metadata": {
        "id": "7ZEZIUppGhdi"
      },
      "source": [
        "model.save(\"test.h5\")"
      ],
      "execution_count": 4,
      "outputs": []
    },
    {
      "cell_type": "markdown",
      "metadata": {
        "id": "HgLIhFgO8xs2"
      },
      "source": [
        "-------------"
      ]
    }
  ]
}