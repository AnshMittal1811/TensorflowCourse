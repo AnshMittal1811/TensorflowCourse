{
  "nbformat": 4,
  "nbformat_minor": 0,
  "metadata": {
    "accelerator": "GPU",
    "colab": {
      "name": "Exercise03_Stanfor_Dataset_with_GloVE.ipynb",
      "provenance": [],
      "toc_visible": true
    },
    "kernelspec": {
      "display_name": "Python 3",
      "language": "python",
      "name": "python3"
    },
    "language_info": {
      "codemirror_mode": {
        "name": "ipython",
        "version": 3
      },
      "file_extension": ".py",
      "mimetype": "text/x-python",
      "name": "python",
      "nbconvert_exporter": "python",
      "pygments_lexer": "ipython3",
      "version": "3.7.6"
    }
  },
  "cells": [
    {
      "cell_type": "code",
      "metadata": {
        "id": "zX4Kg8DUTKWO"
      },
      "source": [
        "#@title Licensed under the Apache License, Version 2.0 (the \"License\");\n",
        "# you may not use this file except in compliance with the License.\n",
        "# You may obtain a copy of the License at\n",
        "#\n",
        "# https://www.apache.org/licenses/LICENSE-2.0\n",
        "#\n",
        "# Unless required by applicable law or agreed to in writing, software\n",
        "# distributed under the License is distributed on an \"AS IS\" BASIS,\n",
        "# WITHOUT WARRANTIES OR CONDITIONS OF ANY KIND, either express or implied.\n",
        "# See the License for the specific language governing permissions and\n",
        "# limitations under the License."
      ],
      "execution_count": 1,
      "outputs": []
    },
    {
      "cell_type": "markdown",
      "metadata": {
        "id": "N930dxar5N5G"
      },
      "source": [
        "<a href=\"https://colab.research.google.com/github/lmoroney/dlaicourse/blob/master/TensorFlow%20In%20Practice/Course%203%20-%20NLP/NLP%20Course%20-%20Week%203%20Exercise%20Answer.ipynb\" target=\"_parent\"><img src=\"https://colab.research.google.com/assets/colab-badge.svg\" alt=\"Open In Colab\"/></a>"
      ]
    },
    {
      "cell_type": "code",
      "metadata": {
        "id": "hmA6EzkQJ5jt"
      },
      "source": [
        "import json\n",
        "import tensorflow as tf\n",
        "import csv\n",
        "import random\n",
        "import numpy as np\n",
        "\n",
        "from tensorflow.keras.preprocessing.text import Tokenizer\n",
        "from tensorflow.keras.preprocessing.sequence import pad_sequences\n",
        "from tensorflow.keras.utils import to_categorical\n",
        "from tensorflow.keras import regularizers\n",
        "\n",
        "\n",
        "embedding_dim = 100\n",
        "max_length = 16\n",
        "trunc_type='post'\n",
        "padding_type='post'\n",
        "oov_tok = \"<OOV>\"\n",
        "training_size=160000\n",
        "test_portion=.1\n",
        "\n",
        "corpus = []\n"
      ],
      "execution_count": 2,
      "outputs": []
    },
    {
      "cell_type": "code",
      "metadata": {
        "id": "bM0l_dORKqE0",
        "outputId": "50081e1d-b58f-435e-cc35-66fec34ac4b0",
        "colab": {
          "base_uri": "https://localhost:8080/",
          "height": 204
        }
      },
      "source": [
        "# Note that I cleaned the Stanford dataset to remove LATIN1 encoding to make it easier for Python CSV reader\n",
        "# You can do that yourself with:\n",
        "# iconv -f LATIN1 -t UTF8 training.1600000.processed.noemoticon.csv -o training_cleaned.csv\n",
        "# I then hosted it on my site to make it easier to use in this notebook\n",
        "\n",
        "!wget --no-check-certificate \\\n",
        "    https://storage.googleapis.com/laurencemoroney-blog.appspot.com/training_cleaned.csv \\\n",
        "    -O /tmp/training_cleaned.csv\n",
        "\n",
        "num_sentences = 0\n",
        "\n",
        "with open(\"/tmp/training_cleaned.csv\") as csvfile:\n",
        "    reader = csv.reader(csvfile, delimiter=',')\n",
        "    for row in reader:\n",
        "        list_item=[]\n",
        "        list_item.append(row[5])\n",
        "        this_label=row[0]\n",
        "        if this_label=='0':\n",
        "            list_item.append(0)\n",
        "        else:\n",
        "            list_item.append(1)\n",
        "        num_sentences = num_sentences + 1\n",
        "        corpus.append(list_item)\n"
      ],
      "execution_count": 3,
      "outputs": [
        {
          "output_type": "stream",
          "text": [
            "--2020-10-20 08:00:45--  https://storage.googleapis.com/laurencemoroney-blog.appspot.com/training_cleaned.csv\n",
            "Resolving storage.googleapis.com (storage.googleapis.com)... 108.177.125.128, 74.125.23.128, 74.125.203.128, ...\n",
            "Connecting to storage.googleapis.com (storage.googleapis.com)|108.177.125.128|:443... connected.\n",
            "HTTP request sent, awaiting response... 200 OK\n",
            "Length: 238942690 (228M) [application/octet-stream]\n",
            "Saving to: ‘/tmp/training_cleaned.csv’\n",
            "\n",
            "/tmp/training_clean 100%[===================>] 227.87M  31.1MB/s    in 7.3s    \n",
            "\n",
            "2020-10-20 08:00:53 (31.1 MB/s) - ‘/tmp/training_cleaned.csv’ saved [238942690/238942690]\n",
            "\n"
          ],
          "name": "stdout"
        }
      ]
    },
    {
      "cell_type": "code",
      "metadata": {
        "id": "3kxblBUjEUX-",
        "outputId": "68918fd4-adcf-4629-c202-e60180b6e6a8",
        "colab": {
          "base_uri": "https://localhost:8080/",
          "height": 68
        }
      },
      "source": [
        "print(num_sentences)\n",
        "print(len(corpus))\n",
        "print(corpus[1])\n",
        "\n",
        "# Expected Output:\n",
        "# 1600000\n",
        "# 1600000\n",
        "# [\"is upset that he can't update his Facebook by texting it... and might cry as a result  School today also. Blah!\", 0]"
      ],
      "execution_count": 4,
      "outputs": [
        {
          "output_type": "stream",
          "text": [
            "1600000\n",
            "1600000\n",
            "[\"is upset that he can't update his Facebook by texting it... and might cry as a result  School today also. Blah!\", 0]\n"
          ],
          "name": "stdout"
        }
      ]
    },
    {
      "cell_type": "code",
      "metadata": {
        "id": "ohOGz24lsNAD"
      },
      "source": [
        "sentences=[]\n",
        "labels=[]\n",
        "random.shuffle(corpus)\n",
        "for x in range(training_size):\n",
        "    sentences.append(corpus[x][0])\n",
        "    labels.append(corpus[x][1])\n",
        "\n",
        "\n",
        "tokenizer = Tokenizer()\n",
        "tokenizer.fit_on_texts(sentences)\n",
        "\n",
        "word_index = tokenizer.word_index\n",
        "vocab_size=len(word_index)\n",
        "\n",
        "sequences = tokenizer.texts_to_sequences(sentences)\n",
        "padded = pad_sequences(sequences, maxlen=max_length, padding=padding_type, truncating=trunc_type)\n",
        "\n",
        "split = int(test_portion * training_size)\n",
        "\n",
        "test_sequences = padded[0:split]\n",
        "training_sequences = padded[split:training_size]\n",
        "test_labels = labels[0:split]\n",
        "training_labels = labels[split:training_size]"
      ],
      "execution_count": 5,
      "outputs": []
    },
    {
      "cell_type": "code",
      "metadata": {
        "id": "gIrtRem1En3N",
        "outputId": "d013a123-ec20-40dc-b555-226e5fafd030",
        "colab": {
          "base_uri": "https://localhost:8080/",
          "height": 51
        }
      },
      "source": [
        "print(vocab_size)\n",
        "print(word_index['i'])\n",
        "# Expected Output\n",
        "# 138858\n",
        "# 1"
      ],
      "execution_count": 6,
      "outputs": [
        {
          "output_type": "stream",
          "text": [
            "138023\n",
            "1\n"
          ],
          "name": "stdout"
        }
      ]
    },
    {
      "cell_type": "code",
      "metadata": {
        "id": "C1zdgJkusRh0",
        "outputId": "bdc8913d-0bc0-4859-fe72-c7173d2be788",
        "colab": {
          "base_uri": "https://localhost:8080/",
          "height": 204
        }
      },
      "source": [
        "# Note this is the 100 dimension version of GloVe from Stanford\n",
        "# I unzipped and hosted it on my site to make this notebook easier\n",
        "!wget --no-check-certificate \\\n",
        "    https://storage.googleapis.com/laurencemoroney-blog.appspot.com/glove.6B.100d.txt \\\n",
        "    -O /tmp/glove.6B.100d.txt\n",
        "embeddings_index = {};\n",
        "with open('/tmp/glove.6B.100d.txt') as f:\n",
        "    for line in f:\n",
        "        values = line.split();\n",
        "        word = values[0];\n",
        "        coefs = np.asarray(values[1:], dtype='float32');\n",
        "        embeddings_index[word] = coefs;\n",
        "\n",
        "embeddings_matrix = np.zeros((vocab_size+1, embedding_dim));\n",
        "for word, i in word_index.items():\n",
        "    embedding_vector = embeddings_index.get(word);\n",
        "    if embedding_vector is not None:\n",
        "        embeddings_matrix[i] = embedding_vector;"
      ],
      "execution_count": 7,
      "outputs": [
        {
          "output_type": "stream",
          "text": [
            "--2020-10-20 08:01:06--  https://storage.googleapis.com/laurencemoroney-blog.appspot.com/glove.6B.100d.txt\n",
            "Resolving storage.googleapis.com (storage.googleapis.com)... 74.125.203.128, 64.233.189.128, 2404:6800:4008:c04::80, ...\n",
            "Connecting to storage.googleapis.com (storage.googleapis.com)|74.125.203.128|:443... connected.\n",
            "HTTP request sent, awaiting response... 200 OK\n",
            "Length: 347116733 (331M) [text/plain]\n",
            "Saving to: ‘/tmp/glove.6B.100d.txt’\n",
            "\n",
            "/tmp/glove.6B.100d. 100%[===================>] 331.04M  45.1MB/s    in 7.3s    \n",
            "\n",
            "2020-10-20 08:01:14 (45.1 MB/s) - ‘/tmp/glove.6B.100d.txt’ saved [347116733/347116733]\n",
            "\n"
          ],
          "name": "stdout"
        }
      ]
    },
    {
      "cell_type": "code",
      "metadata": {
        "id": "71NLk_lpFLNt",
        "outputId": "f75681c1-c393-4f73-ac2f-f2b6eeae8d2b",
        "colab": {
          "base_uri": "https://localhost:8080/",
          "height": 34
        }
      },
      "source": [
        "print(len(embeddings_matrix))\n",
        "# Expected Output\n",
        "# 138859"
      ],
      "execution_count": 8,
      "outputs": [
        {
          "output_type": "stream",
          "text": [
            "138024\n"
          ],
          "name": "stdout"
        }
      ]
    },
    {
      "cell_type": "code",
      "metadata": {
        "id": "iKKvbuEBOGFz",
        "outputId": "d7b35bce-4801-4f35-fbd1-265fd80d162c",
        "colab": {
          "base_uri": "https://localhost:8080/",
          "height": 1000
        }
      },
      "source": [
        "model = tf.keras.Sequential([\n",
        "    tf.keras.layers.Embedding(vocab_size+1, embedding_dim, input_length=max_length, weights=[embeddings_matrix], trainable=False),\n",
        "    tf.keras.layers.Dropout(0.2),\n",
        "    tf.keras.layers.Conv1D(64, 5, activation='relu'),\n",
        "    tf.keras.layers.MaxPooling1D(pool_size=4),\n",
        "    tf.keras.layers.LSTM(64),\n",
        "    tf.keras.layers.Dense(1, activation='sigmoid')\n",
        "])\n",
        "model.compile(loss='binary_crossentropy',optimizer='adam',metrics=['accuracy'])\n",
        "model.summary()\n",
        "\n",
        "num_epochs = 50\n",
        "\n",
        "training_padded = np.array(training_sequences)\n",
        "training_labels = np.array(training_labels)\n",
        "testing_padded = np.array(test_sequences)\n",
        "testing_labels = np.array(test_labels)\n",
        "\n",
        "history = model.fit(training_padded, training_labels, epochs=num_epochs, validation_data=(testing_padded, testing_labels), verbose=2)\n",
        "\n",
        "print(\"Training Complete\")"
      ],
      "execution_count": 9,
      "outputs": [
        {
          "output_type": "stream",
          "text": [
            "Model: \"sequential\"\n",
            "_________________________________________________________________\n",
            "Layer (type)                 Output Shape              Param #   \n",
            "=================================================================\n",
            "embedding (Embedding)        (None, 16, 100)           13802400  \n",
            "_________________________________________________________________\n",
            "dropout (Dropout)            (None, 16, 100)           0         \n",
            "_________________________________________________________________\n",
            "conv1d (Conv1D)              (None, 12, 64)            32064     \n",
            "_________________________________________________________________\n",
            "max_pooling1d (MaxPooling1D) (None, 3, 64)             0         \n",
            "_________________________________________________________________\n",
            "lstm (LSTM)                  (None, 64)                33024     \n",
            "_________________________________________________________________\n",
            "dense (Dense)                (None, 1)                 65        \n",
            "=================================================================\n",
            "Total params: 13,867,553\n",
            "Trainable params: 65,153\n",
            "Non-trainable params: 13,802,400\n",
            "_________________________________________________________________\n",
            "Epoch 1/50\n",
            "4500/4500 - 20s - loss: 0.5693 - accuracy: 0.6985 - val_loss: 0.5316 - val_accuracy: 0.7272\n",
            "Epoch 2/50\n",
            "4500/4500 - 19s - loss: 0.5295 - accuracy: 0.7307 - val_loss: 0.5117 - val_accuracy: 0.7399\n",
            "Epoch 3/50\n",
            "4500/4500 - 19s - loss: 0.5128 - accuracy: 0.7423 - val_loss: 0.5170 - val_accuracy: 0.7361\n",
            "Epoch 4/50\n",
            "4500/4500 - 19s - loss: 0.5020 - accuracy: 0.7503 - val_loss: 0.5147 - val_accuracy: 0.7387\n",
            "Epoch 5/50\n",
            "4500/4500 - 19s - loss: 0.4935 - accuracy: 0.7553 - val_loss: 0.5025 - val_accuracy: 0.7499\n",
            "Epoch 6/50\n",
            "4500/4500 - 19s - loss: 0.4857 - accuracy: 0.7606 - val_loss: 0.5027 - val_accuracy: 0.7477\n",
            "Epoch 7/50\n",
            "4500/4500 - 19s - loss: 0.4799 - accuracy: 0.7657 - val_loss: 0.5069 - val_accuracy: 0.7503\n",
            "Epoch 8/50\n",
            "4500/4500 - 21s - loss: 0.4761 - accuracy: 0.7673 - val_loss: 0.5090 - val_accuracy: 0.7463\n",
            "Epoch 9/50\n",
            "4500/4500 - 19s - loss: 0.4706 - accuracy: 0.7698 - val_loss: 0.5027 - val_accuracy: 0.7487\n",
            "Epoch 10/50\n",
            "4500/4500 - 19s - loss: 0.4663 - accuracy: 0.7734 - val_loss: 0.5035 - val_accuracy: 0.7436\n",
            "Epoch 11/50\n",
            "4500/4500 - 19s - loss: 0.4650 - accuracy: 0.7732 - val_loss: 0.5099 - val_accuracy: 0.7458\n",
            "Epoch 12/50\n",
            "4500/4500 - 19s - loss: 0.4610 - accuracy: 0.7758 - val_loss: 0.5091 - val_accuracy: 0.7480\n",
            "Epoch 13/50\n",
            "4500/4500 - 19s - loss: 0.4593 - accuracy: 0.7770 - val_loss: 0.5061 - val_accuracy: 0.7477\n",
            "Epoch 14/50\n",
            "4500/4500 - 19s - loss: 0.4559 - accuracy: 0.7790 - val_loss: 0.5088 - val_accuracy: 0.7456\n",
            "Epoch 15/50\n",
            "4500/4500 - 20s - loss: 0.4539 - accuracy: 0.7812 - val_loss: 0.5143 - val_accuracy: 0.7450\n",
            "Epoch 16/50\n",
            "4500/4500 - 19s - loss: 0.4521 - accuracy: 0.7818 - val_loss: 0.5121 - val_accuracy: 0.7416\n",
            "Epoch 17/50\n",
            "4500/4500 - 19s - loss: 0.4503 - accuracy: 0.7818 - val_loss: 0.5128 - val_accuracy: 0.7425\n",
            "Epoch 18/50\n",
            "4500/4500 - 19s - loss: 0.4490 - accuracy: 0.7832 - val_loss: 0.5110 - val_accuracy: 0.7431\n",
            "Epoch 19/50\n",
            "4500/4500 - 19s - loss: 0.4477 - accuracy: 0.7843 - val_loss: 0.5142 - val_accuracy: 0.7446\n",
            "Epoch 20/50\n",
            "4500/4500 - 19s - loss: 0.4461 - accuracy: 0.7864 - val_loss: 0.5154 - val_accuracy: 0.7447\n",
            "Epoch 21/50\n",
            "4500/4500 - 19s - loss: 0.4450 - accuracy: 0.7863 - val_loss: 0.5152 - val_accuracy: 0.7461\n",
            "Epoch 22/50\n",
            "4500/4500 - 19s - loss: 0.4436 - accuracy: 0.7871 - val_loss: 0.5216 - val_accuracy: 0.7442\n",
            "Epoch 23/50\n",
            "4500/4500 - 19s - loss: 0.4422 - accuracy: 0.7880 - val_loss: 0.5253 - val_accuracy: 0.7396\n",
            "Epoch 24/50\n",
            "4500/4500 - 20s - loss: 0.4418 - accuracy: 0.7883 - val_loss: 0.5205 - val_accuracy: 0.7427\n",
            "Epoch 25/50\n",
            "4500/4500 - 19s - loss: 0.4411 - accuracy: 0.7891 - val_loss: 0.5168 - val_accuracy: 0.7433\n",
            "Epoch 26/50\n",
            "4500/4500 - 19s - loss: 0.4389 - accuracy: 0.7904 - val_loss: 0.5237 - val_accuracy: 0.7416\n",
            "Epoch 27/50\n",
            "4500/4500 - 19s - loss: 0.4386 - accuracy: 0.7902 - val_loss: 0.5188 - val_accuracy: 0.7407\n",
            "Epoch 28/50\n",
            "4500/4500 - 19s - loss: 0.4383 - accuracy: 0.7898 - val_loss: 0.5210 - val_accuracy: 0.7418\n",
            "Epoch 29/50\n",
            "4500/4500 - 19s - loss: 0.4384 - accuracy: 0.7908 - val_loss: 0.5205 - val_accuracy: 0.7421\n",
            "Epoch 30/50\n",
            "4500/4500 - 19s - loss: 0.4366 - accuracy: 0.7906 - val_loss: 0.5281 - val_accuracy: 0.7434\n",
            "Epoch 31/50\n",
            "4500/4500 - 20s - loss: 0.4366 - accuracy: 0.7920 - val_loss: 0.5287 - val_accuracy: 0.7404\n",
            "Epoch 32/50\n",
            "4500/4500 - 19s - loss: 0.4350 - accuracy: 0.7922 - val_loss: 0.5244 - val_accuracy: 0.7399\n",
            "Epoch 33/50\n",
            "4500/4500 - 19s - loss: 0.4358 - accuracy: 0.7927 - val_loss: 0.5270 - val_accuracy: 0.7412\n",
            "Epoch 34/50\n",
            "4500/4500 - 19s - loss: 0.4341 - accuracy: 0.7937 - val_loss: 0.5304 - val_accuracy: 0.7387\n",
            "Epoch 35/50\n",
            "4500/4500 - 19s - loss: 0.4326 - accuracy: 0.7941 - val_loss: 0.5238 - val_accuracy: 0.7438\n",
            "Epoch 36/50\n",
            "4500/4500 - 19s - loss: 0.4333 - accuracy: 0.7927 - val_loss: 0.5290 - val_accuracy: 0.7416\n",
            "Epoch 37/50\n",
            "4500/4500 - 19s - loss: 0.4336 - accuracy: 0.7931 - val_loss: 0.5243 - val_accuracy: 0.7421\n",
            "Epoch 38/50\n",
            "4500/4500 - 19s - loss: 0.4323 - accuracy: 0.7933 - val_loss: 0.5266 - val_accuracy: 0.7405\n",
            "Epoch 39/50\n",
            "4500/4500 - 19s - loss: 0.4321 - accuracy: 0.7941 - val_loss: 0.5200 - val_accuracy: 0.7408\n",
            "Epoch 40/50\n",
            "4500/4500 - 20s - loss: 0.4330 - accuracy: 0.7932 - val_loss: 0.5206 - val_accuracy: 0.7427\n",
            "Epoch 41/50\n",
            "4500/4500 - 19s - loss: 0.4317 - accuracy: 0.7941 - val_loss: 0.5332 - val_accuracy: 0.7404\n",
            "Epoch 42/50\n",
            "4500/4500 - 19s - loss: 0.4327 - accuracy: 0.7932 - val_loss: 0.5280 - val_accuracy: 0.7466\n",
            "Epoch 43/50\n",
            "4500/4500 - 19s - loss: 0.4321 - accuracy: 0.7932 - val_loss: 0.5231 - val_accuracy: 0.7386\n",
            "Epoch 44/50\n",
            "4500/4500 - 19s - loss: 0.4309 - accuracy: 0.7949 - val_loss: 0.5298 - val_accuracy: 0.7388\n",
            "Epoch 45/50\n",
            "4500/4500 - 19s - loss: 0.4326 - accuracy: 0.7939 - val_loss: 0.5274 - val_accuracy: 0.7399\n",
            "Epoch 46/50\n",
            "4500/4500 - 19s - loss: 0.4312 - accuracy: 0.7946 - val_loss: 0.5263 - val_accuracy: 0.7422\n",
            "Epoch 47/50\n",
            "4500/4500 - 19s - loss: 0.4310 - accuracy: 0.7941 - val_loss: 0.5239 - val_accuracy: 0.7374\n",
            "Epoch 48/50\n",
            "4500/4500 - 19s - loss: 0.4319 - accuracy: 0.7942 - val_loss: 0.5266 - val_accuracy: 0.7397\n",
            "Epoch 49/50\n",
            "4500/4500 - 19s - loss: 0.4294 - accuracy: 0.7966 - val_loss: 0.5290 - val_accuracy: 0.7409\n",
            "Epoch 50/50\n",
            "4500/4500 - 19s - loss: 0.4299 - accuracy: 0.7952 - val_loss: 0.5350 - val_accuracy: 0.7369\n",
            "Training Complete\n"
          ],
          "name": "stdout"
        }
      ]
    },
    {
      "cell_type": "code",
      "metadata": {
        "id": "qxju4ItJKO8F",
        "outputId": "da1ff5bf-5856-46f6-ba77-ef41f4568785",
        "colab": {
          "base_uri": "https://localhost:8080/",
          "height": 606
        }
      },
      "source": [
        "import matplotlib.image  as mpimg\n",
        "import matplotlib.pyplot as plt\n",
        "\n",
        "#-----------------------------------------------------------\n",
        "# Retrieve a list of list results on training and test data\n",
        "# sets for each training epoch\n",
        "#-----------------------------------------------------------\n",
        "acc=history.history['accuracy']\n",
        "val_acc=history.history['val_accuracy']\n",
        "loss=history.history['loss']\n",
        "val_loss=history.history['val_loss']\n",
        "\n",
        "epochs=range(len(acc)) # Get number of epochs\n",
        "\n",
        "#------------------------------------------------\n",
        "# Plot training and validation accuracy per epoch\n",
        "#------------------------------------------------\n",
        "plt.plot(epochs, acc, 'r')\n",
        "plt.plot(epochs, val_acc, 'b')\n",
        "plt.title('Training and validation accuracy')\n",
        "plt.xlabel(\"Epochs\")\n",
        "plt.ylabel(\"Accuracy\")\n",
        "plt.legend([\"Accuracy\", \"Validation Accuracy\"])\n",
        "\n",
        "plt.figure()\n",
        "\n",
        "#------------------------------------------------\n",
        "# Plot training and validation loss per epoch\n",
        "#------------------------------------------------\n",
        "plt.plot(epochs, loss, 'r')\n",
        "plt.plot(epochs, val_loss, 'b')\n",
        "plt.title('Training and validation loss')\n",
        "plt.xlabel(\"Epochs\")\n",
        "plt.ylabel(\"Loss\")\n",
        "plt.legend([\"Loss\", \"Validation Loss\"])\n",
        "\n",
        "plt.figure()\n",
        "\n",
        "\n",
        "# Expected Output\n",
        "# A chart where the validation loss does not increase sharply!"
      ],
      "execution_count": 10,
      "outputs": [
        {
          "output_type": "execute_result",
          "data": {
            "text/plain": [
              "<Figure size 432x288 with 0 Axes>"
            ]
          },
          "metadata": {
            "tags": []
          },
          "execution_count": 10
        },
        {
          "output_type": "display_data",
          "data": {
            "image/png": "[encoded data removed]",
            "text/plain": [
              "<Figure size 432x288 with 1 Axes>"
            ]
          },
          "metadata": {
            "tags": [],
            "needs_background": "light"
          }
        },
        {
          "output_type": "display_data",
          "data": {
            "image/png": "[encoded data removed]",
            "text/plain": [
              "<Figure size 432x288 with 1 Axes>"
            ]
          },
          "metadata": {
            "tags": [],
            "needs_background": "light"
          }
        },
        {
          "output_type": "display_data",
          "data": {
            "text/plain": [
              "<Figure size 432x288 with 0 Axes>"
            ]
          },
          "metadata": {
            "tags": []
          }
        }
      ]
    },
    {
      "cell_type": "markdown",
      "metadata": {
        "id": "nt7SgGLQ59Eg"
      },
      "source": [
        "-------------------------------------"
      ]
    }
  ]
}